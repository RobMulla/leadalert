{
 "cells": [
  {
   "cell_type": "markdown",
   "metadata": {
    "toc": true
   },
   "source": [
    "<h1>Table of Contents<span class=\"tocSkip\"></span></h1>\n",
    "<div class=\"toc\"><ul class=\"toc-item\"><li><span><a href=\"#Import-libs...\" data-toc-modified-id=\"Import-libs...-1\"><span class=\"toc-item-num\">1&nbsp;&nbsp;</span>Import libs...</a></span></li><li><span><a href=\"#Load-data-from-tsv...\" data-toc-modified-id=\"Load-data-from-tsv...-2\"><span class=\"toc-item-num\">2&nbsp;&nbsp;</span>Load data from tsv...</a></span></li><li><span><a href=\"#Condition-data-in-prep-for-modeling...\" data-toc-modified-id=\"Condition-data-in-prep-for-modeling...-3\"><span class=\"toc-item-num\">3&nbsp;&nbsp;</span>Condition data in prep for modeling...</a></span><ul class=\"toc-item\"><li><span><a href=\"#Drop-records-with-null-in-the-lead_result_max_bucket\" data-toc-modified-id=\"Drop-records-with-null-in-the-lead_result_max_bucket-3.1\"><span class=\"toc-item-num\">3.1&nbsp;&nbsp;</span>Drop records with null in the lead_result_max_bucket</a></span></li><li><span><a href=\"#Replace-text-values-with-numerical-representations\" data-toc-modified-id=\"Replace-text-values-with-numerical-representations-3.2\"><span class=\"toc-item-num\">3.2&nbsp;&nbsp;</span>Replace text values with numerical representations</a></span></li><li><span><a href=\"#Assign-the-selected-feature-name-list-(44)\" data-toc-modified-id=\"Assign-the-selected-feature-name-list-(44)-3.3\"><span class=\"toc-item-num\">3.3&nbsp;&nbsp;</span>Assign the selected feature name list (44)</a></span></li><li><span><a href=\"#Assign-the-all-feature-name-list-minus-the-lead-predictor-fields-(757)\" data-toc-modified-id=\"Assign-the-all-feature-name-list-minus-the-lead-predictor-fields-(757)-3.4\"><span class=\"toc-item-num\">3.4&nbsp;&nbsp;</span>Assign the all feature name list minus the lead predictor fields (757)</a></span></li><li><span><a href=\"#Assign-the-predictor-field-name-list-(11)\" data-toc-modified-id=\"Assign-the-predictor-field-name-list-(11)-3.5\"><span class=\"toc-item-num\">3.5&nbsp;&nbsp;</span>Assign the predictor field name list (11)</a></span></li><li><span><a href=\"#Convert-X-and-y-to-numeric-values\" data-toc-modified-id=\"Convert-X-and-y-to-numeric-values-3.6\"><span class=\"toc-item-num\">3.6&nbsp;&nbsp;</span>Convert X and y to numeric values</a></span></li></ul></li><li><span><a href=\"#Split...\" data-toc-modified-id=\"Split...-4\"><span class=\"toc-item-num\">4&nbsp;&nbsp;</span>Split...</a></span><ul class=\"toc-item\"><li><span><a href=\"#Training-and-test-sets\" data-toc-modified-id=\"Training-and-test-sets-4.1\"><span class=\"toc-item-num\">4.1&nbsp;&nbsp;</span>Training and test sets</a></span></li><li><span><a href=\"#Training-and-validation-sets\" data-toc-modified-id=\"Training-and-validation-sets-4.2\"><span class=\"toc-item-num\">4.2&nbsp;&nbsp;</span>Training and validation sets</a></span></li></ul></li><li><span><a href=\"#Preprocess...\" data-toc-modified-id=\"Preprocess...-5\"><span class=\"toc-item-num\">5&nbsp;&nbsp;</span>Preprocess...</a></span></li><li><span><a href=\"#Model-with-param-optimization-and-cv...\" data-toc-modified-id=\"Model-with-param-optimization-and-cv...-6\"><span class=\"toc-item-num\">6&nbsp;&nbsp;</span>Model with param optimization and cv...</a></span><ul class=\"toc-item\"><li><span><a href=\"#Run-GridSearchCV-using-the-cv_params-and-ind_params\" data-toc-modified-id=\"Run-GridSearchCV-using-the-cv_params-and-ind_params-6.1\"><span class=\"toc-item-num\">6.1&nbsp;&nbsp;</span>Run GridSearchCV using the cv_params and ind_params</a></span></li><li><span><a href=\"#Capture-the-full-parameter-dictionary-to-use-going-forward\" data-toc-modified-id=\"Capture-the-full-parameter-dictionary-to-use-going-forward-6.2\"><span class=\"toc-item-num\">6.2&nbsp;&nbsp;</span>Capture the full parameter dictionary to use going forward</a></span></li><li><span><a href=\"#Utilize-the-best_params-with-cv-and-early-stopping-to-prevent-overfitting\" data-toc-modified-id=\"Utilize-the-best_params-with-cv-and-early-stopping-to-prevent-overfitting-6.3\"><span class=\"toc-item-num\">6.3&nbsp;&nbsp;</span>Utilize the best_params with cv and early stopping to prevent overfitting</a></span></li><li><span><a href=\"#Save-the-&quot;best&quot;-model\" data-toc-modified-id=\"Save-the-&quot;best&quot;-model-6.4\"><span class=\"toc-item-num\">6.4&nbsp;&nbsp;</span>Save the \"best\" model</a></span></li><li><span><a href=\"#Check-out-the-feature-importance\" data-toc-modified-id=\"Check-out-the-feature-importance-6.5\"><span class=\"toc-item-num\">6.5&nbsp;&nbsp;</span>Check out the feature importance</a></span></li><li><span><a href=\"#Set-the-cutoff-and-base_filename-needed\" data-toc-modified-id=\"Set-the-cutoff-and-base_filename-needed-6.6\"><span class=\"toc-item-num\">6.6&nbsp;&nbsp;</span>Set the cutoff and base_filename needed</a></span></li><li><span><a href=\"#Save-feature-importance\" data-toc-modified-id=\"Save-feature-importance-6.7\"><span class=\"toc-item-num\">6.7&nbsp;&nbsp;</span>Save feature importance</a></span></li></ul></li><li><span><a href=\"#Evaluate-the-final-model-using-the-validation-data...\" data-toc-modified-id=\"Evaluate-the-final-model-using-the-validation-data...-7\"><span class=\"toc-item-num\">7&nbsp;&nbsp;</span>Evaluate the final model using the validation data...</a></span><ul class=\"toc-item\"><li><span><a href=\"#Calculate-prediction-probabilities-on-the-dval-matrix\" data-toc-modified-id=\"Calculate-prediction-probabilities-on-the-dval-matrix-7.1\"><span class=\"toc-item-num\">7.1&nbsp;&nbsp;</span>Calculate prediction probabilities on the dval matrix</a></span></li><li><span><a href=\"#Calculate-the-AUC-and-optimal-threshold\" data-toc-modified-id=\"Calculate-the-AUC-and-optimal-threshold-7.2\"><span class=\"toc-item-num\">7.2&nbsp;&nbsp;</span>Calculate the AUC and optimal threshold</a></span></li><li><span><a href=\"#Convert-probabilities-back-to-the-0/1-label-using-the-calculated-cutoff\" data-toc-modified-id=\"Convert-probabilities-back-to-the-0/1-label-using-the-calculated-cutoff-7.3\"><span class=\"toc-item-num\">7.3&nbsp;&nbsp;</span>Convert probabilities back to the 0/1 label using the calculated cutoff</a></span></li><li><span><a href=\"#Calculate-accuracy,-recall,-confusion-matrix,-LIFT,-and-AUC-for-dval\" data-toc-modified-id=\"Calculate-accuracy,-recall,-confusion-matrix,-LIFT,-and-AUC-for-dval-7.4\"><span class=\"toc-item-num\">7.4&nbsp;&nbsp;</span>Calculate accuracy, recall, confusion matrix, LIFT, and AUC for dval</a></span></li></ul></li><li><span><a href=\"#Evaluate-the-final-model-using-the-test-data...\" data-toc-modified-id=\"Evaluate-the-final-model-using-the-test-data...-8\"><span class=\"toc-item-num\">8&nbsp;&nbsp;</span>Evaluate the final model using the test data...</a></span><ul class=\"toc-item\"><li><span><a href=\"#Calculate-prediction-probabilities-on-the-test-matrix\" data-toc-modified-id=\"Calculate-prediction-probabilities-on-the-test-matrix-8.1\"><span class=\"toc-item-num\">8.1&nbsp;&nbsp;</span>Calculate prediction probabilities on the test matrix</a></span></li><li><span><a href=\"#Calculate-the-AUC-and-optimal-threshold\" data-toc-modified-id=\"Calculate-the-AUC-and-optimal-threshold-8.2\"><span class=\"toc-item-num\">8.2&nbsp;&nbsp;</span>Calculate the AUC and optimal threshold</a></span></li><li><span><a href=\"#Convert-probabilities-back-to-the-0/1-label-using-the-calculated-cutoff\" data-toc-modified-id=\"Convert-probabilities-back-to-the-0/1-label-using-the-calculated-cutoff-8.3\"><span class=\"toc-item-num\">8.3&nbsp;&nbsp;</span>Convert probabilities back to the 0/1 label using the calculated cutoff</a></span></li><li><span><a href=\"#Calculate-accuracy,-recall,-confusion-matrix,-LIFT,-and-AUC-for-the-test-set\" data-toc-modified-id=\"Calculate-accuracy,-recall,-confusion-matrix,-LIFT,-and-AUC-for-the-test-set-8.4\"><span class=\"toc-item-num\">8.4&nbsp;&nbsp;</span>Calculate accuracy, recall, confusion matrix, LIFT, and AUC for the test set</a></span></li></ul></li><li><span><a href=\"#Save-the-model...\" data-toc-modified-id=\"Save-the-model...-9\"><span class=\"toc-item-num\">9&nbsp;&nbsp;</span>Save the model...</a></span></li><li><span><a href=\"#Upload-prediction-results-to-AWS...\" data-toc-modified-id=\"Upload-prediction-results-to-AWS...-10\"><span class=\"toc-item-num\">10&nbsp;&nbsp;</span>Upload prediction results to AWS...</a></span></li><li><span><a href=\"#References\" data-toc-modified-id=\"References-11\"><span class=\"toc-item-num\">11&nbsp;&nbsp;</span>References</a></span></li></ul></div>"
   ]
  },
  {
   "cell_type": "markdown",
   "metadata": {},
   "source": [
    "## Import libs..."
   ]
  },
  {
   "cell_type": "code",
   "execution_count": 8,
   "metadata": {
    "collapsed": true
   },
   "outputs": [],
   "source": [
    "import time\n",
    "from datetime import datetime\n",
    "import pandas as pd\n",
    "import numpy as np\n",
    "import collections\n",
    "from sqlalchemy import create_engine\n",
    "\n",
    "import xgboost as xgb\n",
    "from xgboost import XGBClassifier\n",
    "import sklearn\n",
    "from sklearn.feature_selection import SelectFromModel\n",
    "from sklearn.model_selection import GridSearchCV\n",
    "from sklearn.ensemble import RandomForestClassifier\n",
    "from sklearn.model_selection import train_test_split\n",
    "from sklearn.metrics import accuracy_score\n",
    "from sklearn.metrics import precision_score\n",
    "from sklearn.metrics import recall_score\n",
    "from sklearn.metrics import average_precision_score\n",
    "import sklearn.metrics as metrics\n",
    "import matplotlib.pyplot as plt\n",
    "\n",
    "from imblearn.over_sampling import RandomOverSampler\n",
    "from imblearn.over_sampling import SMOTE\n",
    "from sklearn.model_selection import KFold\n",
    "from sklearn.model_selection import cross_val_score\n",
    "from sklearn.preprocessing import StandardScaler\n",
    "from sklearn.pipeline import Pipeline\n",
    "from sklearn.discriminant_analysis import LinearDiscriminantAnalysis\n",
    "\n",
    "from sklearn.metrics import confusion_matrix\n",
    "from sklearn.metrics import classification_report\n",
    "from sklearn.metrics import make_scorer\n",
    "from mlxtend.evaluate import lift_score\n",
    "import pickle\n",
    "from sklearn.externals import joblib\n",
    "\n",
    "# msmote lib\n",
    "from preprocessing import smote\n",
    "\n",
    "%matplotlib inline"
   ]
  },
  {
   "cell_type": "markdown",
   "metadata": {},
   "source": [
    "## Load data from tsv..."
   ]
  },
  {
   "cell_type": "markdown",
   "metadata": {},
   "source": [
    "Note previous code versions acquired the data directly from an AWS RDS Postgres instance table. The table was exported as a tsv for future user convenience and accessibility."
   ]
  },
  {
   "cell_type": "code",
   "execution_count": 9,
   "metadata": {
    "collapsed": true
   },
   "outputs": [],
   "source": [
    "df = pd.DataFrame.from_csv('../data/acs_chem_lead_joined.tsv', sep='\\t')"
   ]
  },
  {
   "cell_type": "code",
   "execution_count": 10,
   "metadata": {},
   "outputs": [
    {
     "data": {
      "text/plain": [
       "(8057, 769)"
      ]
     },
     "execution_count": 10,
     "metadata": {},
     "output_type": "execute_result"
    }
   ],
   "source": [
    "df.shape"
   ]
  },
  {
   "cell_type": "markdown",
   "metadata": {},
   "source": [
    "## Condition data in prep for modeling..."
   ]
  },
  {
   "cell_type": "markdown",
   "metadata": {},
   "source": [
    "### Drop records with null in the lead_result_max_bucket"
   ]
  },
  {
   "cell_type": "code",
   "execution_count": 11,
   "metadata": {
    "collapsed": true
   },
   "outputs": [],
   "source": [
    "df_cond = df.dropna(subset=['lead_result_max_bucket'])"
   ]
  },
  {
   "cell_type": "code",
   "execution_count": 12,
   "metadata": {},
   "outputs": [
    {
     "data": {
      "text/plain": [
       "(1241, 769)"
      ]
     },
     "execution_count": 12,
     "metadata": {},
     "output_type": "execute_result"
    }
   ],
   "source": [
    "df_cond.shape"
   ]
  },
  {
   "cell_type": "markdown",
   "metadata": {},
   "source": [
    "### Replace text values with numerical representations"
   ]
  },
  {
   "cell_type": "code",
   "execution_count": 13,
   "metadata": {
    "collapsed": true
   },
   "outputs": [],
   "source": [
    "X = df_cond.replace(to_replace='(X)', value=1) \\\n",
    "      .replace('-',np.nan) \\\n",
    "      .replace('N',np.nan) \\\n",
    "      .replace('250,000+','250000') \\\n",
    "      .replace('3,500+','3500') \\\n",
    "      .replace('1,500+','1500') \\\n",
    "      .replace('4,000+','4000') \\\n",
    "      .replace('2,000,000+','2000000') \\\n",
    "      .replace('9.0+','9') \\\n",
    "      .replace('100-','100') \\\n",
    "      .fillna(0)"
   ]
  },
  {
   "cell_type": "code",
   "execution_count": 14,
   "metadata": {},
   "outputs": [
    {
     "data": {
      "text/plain": [
       "(1241, 769)"
      ]
     },
     "execution_count": 14,
     "metadata": {},
     "output_type": "execute_result"
    }
   ],
   "source": [
    "X.shape"
   ]
  },
  {
   "cell_type": "markdown",
   "metadata": {},
   "source": [
    "### Assign the selected feature name list (44)"
   ]
  },
  {
   "cell_type": "code",
   "execution_count": 15,
   "metadata": {
    "collapsed": true
   },
   "outputs": [],
   "source": [
    "feature_names = [\n",
    "\t'est_sex_and_age_tot_pop',\n",
    "\t'est_sex_and_age_tot_pop_male',\n",
    "\t'est_sex_and_age_tot_pop_female',\n",
    "\t'est_sex_and_age_under_5_yrs',\n",
    "\t'est_sex_and_age_5_to_9_yrs',\n",
    "\t'est_sex_and_age_10_to_14_yrs',\n",
    "\t'est_sex_and_age_15_to_19_yrs',\n",
    "\t'est_sex_and_age_20_to_24_yrs',\n",
    "\t'est_sex_and_age_25_to_34_yrs',\n",
    "\t'est_sex_and_age_35_to_44_yrs',\n",
    "\t'est_sex_and_age_45_to_54_yrs',\n",
    "\t'est_sex_and_age_55_to_59_yrs',\n",
    "\t'est_sex_and_age_60_to_64_yrs',\n",
    "\t'est_sex_and_age_65_to_74_yrs',\n",
    "\t'est_sex_and_age_75_to_84_yrs',\n",
    "\t'est_sex_and_age_85_yrs_plus',\n",
    "\t'pct_yr_blt_units_built_2014_or_later',\n",
    "\t'pct_yr_blt_units_built_2010_to_2013',\n",
    "\t'pct_yr_blt_units_built_2000_to_2009',\n",
    "\t'pct_yr_blt_units_built_1990_to_1999',\n",
    "\t'pct_yr_blt_units_built_1980_to_1989',\n",
    "\t'pct_yr_blt_units_built_1970_to_1979',\n",
    "\t'pct_yr_blt_units_built_1960_to_1969',\n",
    "\t'pct_yr_blt_units_built_1950_to_1959',\n",
    "\t'pct_yr_blt_units_built_1940_to_1949',\n",
    "\t'pct_yr_blt_units_built_1939_or_earlier',\n",
    "\t'est_inc_tot_hshld_mean_household_inc_dol',\n",
    "\t'est_units_in_struct',\n",
    "\t'est_inc_tot_hshld_median_household_inc_dol',\n",
    "\t'pct_emp_pop_16_yrs_plus_in_labor_force_civ_emp',\n",
    "\t'est_disability_tot_disabled',\n",
    "\t'est_year_householder_moved_into_unit_occ_unts_2015_or_later',\n",
    "\t'est_year_householder_moved_into_unit_occ_unts_2010_to_2014',\n",
    "\t'est_year_householder_moved_into_unit_occ_unts_2000_to_2009',\n",
    "\t'est_year_householder_moved_into_unit_occ_unts_1990_to_1999',\n",
    "\t'est_year_householder_moved_into_unit_occ_unts_1980_to_1989',\n",
    "\t'est_year_householder_moved_into_unit_occ_unts_1979prior',\n",
    "\t'pct_thr_00650',\n",
    "\t'pct_thr_00660',\n",
    "\t'pct_thr_01051',\n",
    "\t'pct_thr_32102',\n",
    "\t'pct_thr_34418',\n",
    "\t'pct_thr_34423',\n",
    "\t'pct_thr_39175', \n",
    "]"
   ]
  },
  {
   "cell_type": "markdown",
   "metadata": {},
   "source": [
    "### Assign the all feature name list minus the lead predictor fields (757)"
   ]
  },
  {
   "cell_type": "code",
   "execution_count": 16,
   "metadata": {
    "collapsed": true
   },
   "outputs": [],
   "source": [
    "feature_names_all = [\n",
    "\t'est_occ_tot_housing_units',\n",
    "\t'pct_occ_tot_housing_units',\n",
    "\t'est_occ_tot_housing_units_occ_unts',\n",
    "\t'pct_occ_tot_housing_units_occ_unts',\n",
    "\t'est_occ_tot_housing_units_vac_housing_units',\n",
    "\t'pct_occ_tot_housing_units_vac_housing_units',\n",
    "\t'est_occ_homeowner_vac_rate',\n",
    "\t'pct_occ_homeowner_vac_rate',\n",
    "\t'est_occ_rental_vac_rate',\n",
    "\t'pct_occ_rental_vac_rate',\n",
    "\t'est_units_in_struct',\n",
    "\t'pct_units_in_struct',\n",
    "\t'est_units_in_struct_1_unit_detached',\n",
    "\t'pct_units_in_struct_1_unit_detached',\n",
    "\t'est_units_in_struct_1_unit_attached',\n",
    "\t'pct_units_in_struct_1_unit_attached',\n",
    "\t'est_units_in_struct_2_units',\n",
    "\t'pct_units_in_struct_2_units',\n",
    "\t'est_units_in_struct_3_or_4_units',\n",
    "\t'pct_units_in_struct_3_or_4_units',\n",
    "\t'est_units_in_struct_5_to_9_units',\n",
    "\t'pct_units_in_struct_5_to_9_units',\n",
    "\t'est_units_in_struct_10_to_19_units',\n",
    "\t'pct_units_in_struct_10_to_19_units',\n",
    "\t'est_units_in_struct_20_or_more_units',\n",
    "\t'pct_units_in_struct_20_or_more_units',\n",
    "\t'est_units_in_struct_mobile_home',\n",
    "\t'pct_units_in_struct_mobile_home',\n",
    "\t'est_units_in_struct_boat_rv_van_etc',\n",
    "\t'pct_units_in_struct_boat_rv_van_etc',\n",
    "\t'est_yr_blt_units',\n",
    "\t'pct_yr_blt_units',\n",
    "\t'est_yr_blt_units_built_2014_or_later',\n",
    "\t'pct_yr_blt_units_built_2014_or_later',\n",
    "\t'est_yr_blt_units_built_2010_to_2013',\n",
    "\t'pct_yr_blt_units_built_2010_to_2013',\n",
    "\t'est_yr_blt_units_built_2000_to_2009',\n",
    "\t'pct_yr_blt_units_built_2000_to_2009',\n",
    "\t'est_yr_blt_units_built_1990_to_1999',\n",
    "\t'pct_yr_blt_units_built_1990_to_1999',\n",
    "\t'est_yr_blt_units_built_1980_to_1989',\n",
    "\t'pct_yr_blt_units_built_1980_to_1989',\n",
    "\t'est_yr_blt_units_built_1970_to_1979',\n",
    "\t'pct_yr_blt_units_built_1970_to_1979',\n",
    "\t'est_yr_blt_units_built_1960_to_1969',\n",
    "\t'pct_yr_blt_units_built_1960_to_1969',\n",
    "\t'est_yr_blt_units_built_1950_to_1959',\n",
    "\t'pct_yr_blt_units_built_1950_to_1959',\n",
    "\t'est_yr_blt_units_built_1940_to_1949',\n",
    "\t'pct_yr_blt_units_built_1940_to_1949',\n",
    "\t'est_yr_blt_units_built_1939_or_earlier',\n",
    "\t'pct_yr_blt_units_built_1939_or_earlier',\n",
    "\t'est_rooms_units',\n",
    "\t'pct_rooms_units',\n",
    "\t'est_rooms_units_1_room',\n",
    "\t'pct_rooms_units_1_room',\n",
    "\t'est_rooms_units_2_rooms',\n",
    "\t'pct_rooms_units_2_rooms',\n",
    "\t'est_rooms_units_3_rooms',\n",
    "\t'pct_rooms_units_3_rooms',\n",
    "\t'est_rooms_units_4_rooms',\n",
    "\t'pct_rooms_units_4_rooms',\n",
    "\t'est_rooms_units_5_rooms',\n",
    "\t'pct_rooms_units_5_rooms',\n",
    "\t'est_rooms_units_6_rooms',\n",
    "\t'pct_rooms_units_6_rooms',\n",
    "\t'est_rooms_units_7_rooms',\n",
    "\t'pct_rooms_units_7_rooms',\n",
    "\t'est_rooms_units_8_rooms',\n",
    "\t'pct_rooms_units_8_rooms',\n",
    "\t'est_rooms_units_9_rooms_or_more',\n",
    "\t'pct_rooms_units_9_rooms_or_more',\n",
    "\t'est_rooms_units_median_rooms',\n",
    "\t'pct_rooms_units_median_rooms',\n",
    "\t'est_bedrooms_units',\n",
    "\t'pct_bedrooms_units',\n",
    "\t'est_bedrooms_units_no_bedroom',\n",
    "\t'pct_bedrooms_units_no_bedroom',\n",
    "\t'est_bedrooms_units_1_bedroom',\n",
    "\t'pct_bedrooms_units_1_bedroom',\n",
    "\t'est_bedrooms_units_2_bedrooms',\n",
    "\t'pct_bedrooms_units_2_bedrooms',\n",
    "\t'est_bedrooms_units_3_bedrooms',\n",
    "\t'pct_bedrooms_units_3_bedrooms',\n",
    "\t'est_bedrooms_units_4_bedrooms',\n",
    "\t'pct_bedrooms_units_4_bedrooms',\n",
    "\t'est_bedrooms_units_5_or_more_bedrooms',\n",
    "\t'pct_bedrooms_units_5_or_more_bedrooms',\n",
    "\t'est_housing_tenure_occ_unts',\n",
    "\t'pct_housing_tenure_occ_unts',\n",
    "\t'est_housing_tenure_occ_unts_owner_occupied',\n",
    "\t'pct_housing_tenure_occ_unts_owner_occupied',\n",
    "\t'est_housing_tenure_occ_unts_renter_occupied',\n",
    "\t'pct_housing_tenure_occ_unts_renter_occupied',\n",
    "\t'est_housing_tenure_avg_houshld_of_owner_occupied_unit',\n",
    "\t'pct_housing_tenure_avg_houshld_of_owner_occupied_unit',\n",
    "\t'est_housing_tenure_avg_houshld_of_renter_occupied_unit',\n",
    "\t'pct_housing_tenure_avg_houshld_of_renter_occupied_unit',\n",
    "\t'est_year_householder_moved_into_unit_occ_unts',\n",
    "\t'pct_year_householder_moved_into_unit_occ_unts',\n",
    "\t'est_year_householder_moved_into_unit_occ_unts_2015_or_later',\n",
    "\t'pct_year_householder_moved_into_unit_occ_unts_2015_or_later',\n",
    "\t'est_year_householder_moved_into_unit_occ_unts_2010_to_2014',\n",
    "\t'pct_year_householder_moved_into_unit_occ_unts_2010_to_2014',\n",
    "\t'est_year_householder_moved_into_unit_occ_unts_2000_to_2009',\n",
    "\t'pct_year_householder_moved_into_unit_occ_unts_2000_to_2009',\n",
    "\t'est_year_householder_moved_into_unit_occ_unts_1990_to_1999',\n",
    "\t'pct_year_householder_moved_into_unit_occ_unts_1990_to_1999',\n",
    "\t'est_year_householder_moved_into_unit_occ_unts_1980_to_1989',\n",
    "\t'pct_year_householder_moved_into_unit_occ_unts_1980_to_1989',\n",
    "\t'est_year_householder_moved_into_unit_occ_unts_1979prior',\n",
    "\t'pct_year_householder_moved_into_unit_occ_unts_1979prior',\n",
    "\t'est_vehicles_occ_unts',\n",
    "\t'pct_vehicles_occ_unts',\n",
    "\t'est_vehicles_occ_unts_no_vehicles',\n",
    "\t'pct_vehicles_occ_unts_no_vehicles',\n",
    "\t'est_vehicles_occ_unts_1_vehicles',\n",
    "\t'pct_vehicles_occ_unts_1_vehicles',\n",
    "\t'est_vehicles_occ_unts_2_vehicles',\n",
    "\t'pct_vehicles_occ_unts_2_vehicles',\n",
    "\t'est_vehicles_occ_unts_3_or_more_vehicles',\n",
    "\t'pct_vehicles_occ_unts_3_or_more_vehicles',\n",
    "\t'est_house_heating_fuel_occ_unts',\n",
    "\t'pct_house_heating_fuel_occ_unts',\n",
    "\t'est_house_heating_fuel_occ_unts_utility_gas',\n",
    "\t'pct_house_heating_fuel_occ_unts_utility_gas',\n",
    "\t'est_house_heating_fuel_occ_unts_bottled_tank_or_lp_gas',\n",
    "\t'pct_house_heating_fuel_occ_unts_bottled_tank_or_lp_gas',\n",
    "\t'est_house_heating_fuel_occ_unts_electricity',\n",
    "\t'pct_house_heating_fuel_occ_unts_electricity',\n",
    "\t'est_house_heating_fuel_occ_unts_fuel_oil_kerosene_etc',\n",
    "\t'pct_house_heating_fuel_occ_unts_fuel_oil_kerosene_etc',\n",
    "\t'est_house_heating_fuel_occ_unts_coal_or_coke',\n",
    "\t'pct_house_heating_fuel_occ_unts_coal_or_coke',\n",
    "\t'est_house_heating_fuel_occ_unts_wood',\n",
    "\t'pct_house_heating_fuel_occ_unts_wood',\n",
    "\t'est_house_heating_fuel_occ_unts_solar_energy',\n",
    "\t'pct_house_heating_fuel_occ_unts_solar_energy',\n",
    "\t'est_house_heating_fuel_occ_unts_other_fuel',\n",
    "\t'pct_house_heating_fuel_occ_unts_other_fuel',\n",
    "\t'est_house_heating_fuel_occ_unts_no_fuel_used',\n",
    "\t'pct_house_heating_fuel_occ_unts_no_fuel_used',\n",
    "\t'est_selected_char_occ_unts',\n",
    "\t'pct_selected_char_occ_unts',\n",
    "\t'est_selected_char_occ_unts_lacking_plumbing_fac',\n",
    "\t'pct_selected_char_occ_unts_lacking_plumbing_fac',\n",
    "\t'est_selected_char_occ_unts_lacking_kitchen_fac',\n",
    "\t'pct_selected_char_occ_unts_lacking_kitchen_fac',\n",
    "\t'est_selected_char_occ_unts_no_teleph',\n",
    "\t'pct_selected_char_occ_unts_no_teleph',\n",
    "\t'est_occupants_per_room_occ_unts',\n",
    "\t'pct_occupants_per_room_occ_unts',\n",
    "\t'est_occupants_per_room_occ_unts_100_or_less',\n",
    "\t'pct_occupants_per_room_occ_unts_100_or_less',\n",
    "\t'est_occupants_per_room_occ_unts_101_to_150',\n",
    "\t'pct_occupants_per_room_occ_unts_101_to_150',\n",
    "\t'est_occupants_per_room_occ_unts_151_or_more',\n",
    "\t'pct_occupants_per_room_occ_unts_151_or_more',\n",
    "\t'est_value_own_occ',\n",
    "\t'pct_value_own_occ',\n",
    "\t'est_value_own_occ_less_than_50000',\n",
    "\t'pct_value_own_occ_less_than_50000',\n",
    "\t'est_value_own_occ_50000_to_99999',\n",
    "\t'pct_value_own_occ_50000_to_99999',\n",
    "\t'est_value_own_occ_100000_to_149999',\n",
    "\t'pct_value_own_occ_100000_to_149999',\n",
    "\t'est_value_own_occ_150000_to_199999',\n",
    "\t'pct_value_own_occ_150000_to_199999',\n",
    "\t'est_value_own_occ_200000_to_299999',\n",
    "\t'pct_value_own_occ_200000_to_299999',\n",
    "\t'est_value_own_occ_300000_to_499999',\n",
    "\t'pct_value_own_occ_300000_to_499999',\n",
    "\t'est_value_own_occ_500000_to_999999',\n",
    "\t'pct_value_own_occ_500000_to_999999',\n",
    "\t'est_value_own_occ_1000000_or_more',\n",
    "\t'pct_value_own_occ_1000000_or_more',\n",
    "\t'est_value_own_occ_median_dollars',\n",
    "\t'pct_value_own_occ_median_dollars',\n",
    "\t'est_mortgage_status_own_occ',\n",
    "\t'pct_mortgage_status_own_occ',\n",
    "\t'est_mortgage_status_own_occ_unit_with_mort',\n",
    "\t'pct_mortgage_status_own_occ_unit_with_mort',\n",
    "\t'est_mortgage_status_own_occ_unit_without_mort',\n",
    "\t'pct_mortgage_status_own_occ_unit_without_mort',\n",
    "\t'est_month_ownr_cst_smoc_unit_with_mort',\n",
    "\t'pct_month_ownr_cst_smoc_unit_with_mort',\n",
    "\t'est_month_ownr_cst_smoc_unit_with_mort_less_than_500',\n",
    "\t'pct_month_ownr_cst_smoc_unit_with_mort_less_than_500',\n",
    "\t'est_month_ownr_cst_smoc_unit_with_mort_500_to_999',\n",
    "\t'pct_month_ownr_cst_smoc_unit_with_mort_500_to_999',\n",
    "\t'est_month_ownr_cst_smoc_unit_with_mort_1000_to_1499',\n",
    "\t'pct_month_ownr_cst_smoc_unit_with_mort_1000_to_1499',\n",
    "\t'est_month_ownr_cst_smoc_unit_with_mort_1500_to_1999',\n",
    "\t'pct_month_ownr_cst_smoc_unit_with_mort_1500_to_1999',\n",
    "\t'est_month_ownr_cst_smoc_unit_with_mort_2000_to_2499',\n",
    "\t'pct_month_ownr_cst_smoc_unit_with_mort_2000_to_2499',\n",
    "\t'est_month_ownr_cst_smoc_unit_with_mort_2500_to_2999',\n",
    "\t'pct_month_ownr_cst_smoc_unit_with_mort_2500_to_2999',\n",
    "\t'est_month_ownr_cst_smoc_unit_with_mort_3000_or_more',\n",
    "\t'pct_month_ownr_cst_smoc_unit_with_mort_3000_or_more',\n",
    "\t'est_month_ownr_cst_smoc_unit_with_mort_median_dollars',\n",
    "\t'pct_month_ownr_cst_smoc_unit_with_mort_median_dollars',\n",
    "\t'est_month_ownr_cst_smoc_unit_without_mort',\n",
    "\t'pct_month_ownr_cst_smoc_unit_without_mort',\n",
    "\t'est_month_ownr_cst_smoc_unit_without_mort_less_than_250',\n",
    "\t'pct_month_ownr_cst_smoc_unit_without_mort_less_than_250',\n",
    "\t'est_month_ownr_cst_smoc_unit_without_mort_250_to_399',\n",
    "\t'pct_month_ownr_cst_smoc_unit_without_mort_250_to_399',\n",
    "\t'est_month_ownr_cst_smoc_unit_without_mort_400_to_599',\n",
    "\t'pct_month_ownr_cst_smoc_unit_without_mort_400_to_599',\n",
    "\t'est_month_ownr_cst_smoc_unit_without_mort_600_to_799',\n",
    "\t'pct_month_ownr_cst_smoc_unit_without_mort_600_to_799',\n",
    "\t'est_month_ownr_cst_smoc_unit_without_mort_800_to_999',\n",
    "\t'pct_month_ownr_cst_smoc_unit_without_mort_800_to_999',\n",
    "\t'est_month_ownr_cst_smoc_unit_without_mort_1000_or_more',\n",
    "\t'pct_month_ownr_cst_smoc_unit_without_mort_1000_or_more',\n",
    "\t'est_month_ownr_cst_smoc_unit_without_mort_median_dollars',\n",
    "\t'pct_month_ownr_cst_smoc_unit_without_mort_median_dollars',\n",
    "\t'est_smocapi_unit_with_mort',\n",
    "\t'pct_smocapi_unit_with_mort',\n",
    "\t'est_smocapi_unit_with_mort_less_than_200_pct',\n",
    "\t'pct_smocapi_unit_with_mort_less_than_200_pct',\n",
    "\t'est_smocapi_unit_with_mort_200_to_249_pct',\n",
    "\t'pct_smocapi_unit_with_mort_200_to_249_pct',\n",
    "\t'est_smocapi_unit_with_mort_250_to_299_pct',\n",
    "\t'pct_smocapi_unit_with_mort_250_to_299_pct',\n",
    "\t'est_smocapi_unit_with_mort_300_to_349_pct',\n",
    "\t'pct_smocapi_unit_with_mort_300_to_349_pct',\n",
    "\t'est_smocapi_unit_with_mort_350_pct_or_more',\n",
    "\t'pct_smocapi_unit_with_mort_350_pct_or_more',\n",
    "\t'est_smocapi_unit_nomortg',\n",
    "\t'pct_smocapi_unit_nomortg',\n",
    "\t'est_smocapi_unit_nomortg_less_than_100_pct',\n",
    "\t'pct_smocapi_unit_nomortg_less_than_100_pct',\n",
    "\t'est_smocapi_unit_nomortg_100_to_149_pct',\n",
    "\t'pct_smocapi_unit_nomortg_100_to_149_pct',\n",
    "\t'est_smocapi_unit_nomortg_150_to_199_pct',\n",
    "\t'pct_smocapi_unit_nomortg_150_to_199_pct',\n",
    "\t'est_smocapi_unit_nomortg_200_to_249_pct',\n",
    "\t'pct_smocapi_unit_nomortg_200_to_249_pct',\n",
    "\t'est_smocapi_unit_nomortg_250_to_299_pct',\n",
    "\t'pct_smocapi_unit_nomortg_250_to_299_pct',\n",
    "\t'est_smocapi_unit_nomortg_300_to_349_pct',\n",
    "\t'pct_smocapi_unit_nomortg_300_to_349_pct',\n",
    "\t'est_smocapi_unit_nomortg_350_pct_or_more',\n",
    "\t'pct_smocapi_unit_nomortg_350_pct_or_more',\n",
    "\t'est_gross_rent_occ_unt_paying_rnt',\n",
    "\t'pct_gross_rent_occ_unt_paying_rnt',\n",
    "\t'est_gross_rent_occ_unt_paying_rnt_less_than_500',\n",
    "\t'pct_gross_rent_occ_unt_paying_rnt_less_than_500',\n",
    "\t'est_gross_rent_occ_unt_paying_rnt_500_to_999',\n",
    "\t'pct_gross_rent_occ_unt_paying_rnt_500_to_999',\n",
    "\t'est_gross_rent_occ_unt_paying_rnt_1000_to_1499',\n",
    "\t'pct_gross_rent_occ_unt_paying_rnt_1000_to_1499',\n",
    "\t'est_gross_rent_occ_unt_paying_rnt_1500_to_1999',\n",
    "\t'pct_gross_rent_occ_unt_paying_rnt_1500_to_1999',\n",
    "\t'est_gross_rent_occ_unt_paying_rnt_2000_to_2499',\n",
    "\t'pct_gross_rent_occ_unt_paying_rnt_2000_to_2499',\n",
    "\t'est_gross_rent_occ_unt_paying_rnt_2500_to_2999',\n",
    "\t'pct_gross_rent_occ_unt_paying_rnt_2500_to_2999',\n",
    "\t'est_gross_rent_occ_unt_paying_rnt_3000_or_more',\n",
    "\t'pct_gross_rent_occ_unt_paying_rnt_3000_or_more',\n",
    "\t'est_gross_rent_occ_unt_paying_rnt_median_dollars',\n",
    "\t'pct_gross_rent_occ_unt_paying_rnt_median_dollars',\n",
    "\t'est_gross_rent_no_rent_paid',\n",
    "\t'pct_gross_rent_no_rent_paid',\n",
    "\t'est_grapi_occ_unt_paying_rnt_excl',\n",
    "\t'pct_grapi_occ_unt_paying_rnt_excl',\n",
    "\t'est_grapi_occ_unt_paying_rnt_excl_less_than_150_pct',\n",
    "\t'pct_grapi_occ_unt_paying_rnt_excl_less_than_150_pct',\n",
    "\t'est_grapi_occ_unt_paying_rnt_excl_150_to_199_pct',\n",
    "\t'pct_grapi_occ_unt_paying_rnt_excl_150_to_199_pct',\n",
    "\t'est_grapi_occ_unt_paying_rnt_excl_200_to_249_pct',\n",
    "\t'pct_grapi_occ_unt_paying_rnt_excl_200_to_249_pct',\n",
    "\t'est_grapi_occ_unt_paying_rnt_excl_250_to_299_pct',\n",
    "\t'pct_grapi_occ_unt_paying_rnt_excl_250_to_299_pct',\n",
    "\t'est_grapi_occ_unt_paying_rnt_excl_300_to_349_pct',\n",
    "\t'pct_grapi_occ_unt_paying_rnt_excl_300_to_349_pct',\n",
    "\t'est_grapi_occ_unt_paying_rnt_excl_350_pct_or_more',\n",
    "\t'pct_grapi_occ_unt_paying_rnt_excl_350_pct_or_more',\n",
    "\t'est_grapi_not_computed',\n",
    "\t'pct_grapi_not_computed',\n",
    "\t'est_hshld_tot_hshld',\n",
    "\t'pct_hshld_tot_hshld',\n",
    "\t'est_hshld_tot_fam',\n",
    "\t'pct_hshld_tot_fam',\n",
    "\t'est_hshld_tot_fam_w_child_u18_yrs',\n",
    "\t'pct_hshld_tot_fam_w_child_u18_yrs',\n",
    "\t'est_hshld_tot_fam_married_couple_family',\n",
    "\t'pct_hshld_tot_fam_married_couple_family',\n",
    "\t'est_hshld_tot_fam_married_couple_family_w_child_u18_yrs',\n",
    "\t'pct_hshld_tot_fam_married_couple_family_w_child_u18_yrs',\n",
    "\t'est_hshld_tot_fam_male_sngl',\n",
    "\t'pct_hshld_tot_fam_male_sngl',\n",
    "\t'est_hshld_tot_fam_male_sngl_w_child_u18_yrs',\n",
    "\t'pct_hshld_tot_fam_male_sngl_w_child_u18_yrs',\n",
    "\t'est_hshld_tot_fam_fem_sngl',\n",
    "\t'pct_hshld_tot_fam_fem_sngl',\n",
    "\t'est_hshld_tot_fam_fem_sngl_w_child_u18_yrs',\n",
    "\t'pct_hshld_tot_fam_fem_sngl_w_child_u18_yrs',\n",
    "\t'est_hshld_tot_hshld_nonfamily_hshld',\n",
    "\t'pct_hshld_tot_hshld_nonfamily_hshld',\n",
    "\t'est_hshld_tot_alone',\n",
    "\t'pct_hshld_tot_alone',\n",
    "\t'est_hshld_tot_alone_65_yrs_plus',\n",
    "\t'pct_hshld_tot_alone_65_yrs_plus',\n",
    "\t'est_hshld_hshld_w_u18_yrs',\n",
    "\t'pct_hshld_hshld_w_u18_yrs',\n",
    "\t'est_hshld_hshld_w_65_yrs_plus',\n",
    "\t'pct_hshld_hshld_w_65_yrs_plus',\n",
    "\t'est_hshld_average_household_size',\n",
    "\t'pct_hshld_average_household_size',\n",
    "\t'est_hshld_average_family_size',\n",
    "\t'pct_hshld_average_family_size',\n",
    "\t'est_relationship_pop_in_hshld',\n",
    "\t'pct_relationship_pop_in_hshld',\n",
    "\t'est_relationship_pop_in_hshld_householder',\n",
    "\t'pct_relationship_pop_in_hshld_householder',\n",
    "\t'est_relationship_pop_in_hshld_spouse',\n",
    "\t'pct_relationship_pop_in_hshld_spouse',\n",
    "\t'est_relationship_pop_in_hshld_child',\n",
    "\t'pct_relationship_pop_in_hshld_child',\n",
    "\t'est_relationship_pop_in_hshld_other_rel',\n",
    "\t'pct_relationship_pop_in_hshld_other_rel',\n",
    "\t'est_relationship_pop_in_hshld_nonrel',\n",
    "\t'pct_relationship_pop_in_hshld_nonrel',\n",
    "\t'est_relationship_pop_in_hshld_nonrel_unmarr_partner',\n",
    "\t'pct_relationship_pop_in_hshld_nonrel_unmarr_partner',\n",
    "\t'est_fert_15_to_50_yrs_birth',\n",
    "\t'pct_fert_15_to_50_yrs_birth',\n",
    "\t'est_fert_15_to_50_yrs_birth_unmarr',\n",
    "\t'pct_fert_15_to_50_yrs_birth_unmarr',\n",
    "\t'est_fert_15_to_50_yrs_birth_unmarr_per_1000_unmarr_women',\n",
    "\t'pct_fert_15_to_50_yrs_birth_unmarr_per_1000_unmarr_women',\n",
    "\t'est_fert_15_to_50_yrs_birth_per_1000_women_15_to_50_yrs',\n",
    "\t'pct_fert_15_to_50_yrs_birth_per_1000_women_15_to_50_yrs',\n",
    "\t'est_fert_15_to_50_yrs_birth_per_1000_women_15_to_19_yrs',\n",
    "\t'pct_fert_15_to_50_yrs_birth_per_1000_women_15_to_19_yrs',\n",
    "\t'est_fert_15_to_50_yrs_birth_per_1000_women_20_to_34_yrs',\n",
    "\t'pct_fert_15_to_50_yrs_birth_per_1000_women_20_to_34_yrs',\n",
    "\t'est_fert_15_to_50_yrs_birth_per_1000_women_35_to_50_yrs',\n",
    "\t'pct_fert_15_to_50_yrs_birth_per_1000_women_35_to_50_yrs',\n",
    "\t'est_school_enroll_pop_3_yrs_plus_',\n",
    "\t'pct_school_enroll_pop_3_yrs_plus_',\n",
    "\t'est_school_enroll_pop_3_yrs_plus_nursery_school_preschool',\n",
    "\t'pct_school_enroll_pop_3_yrs_plus_nursery_school_preschool',\n",
    "\t'est_school_enroll_pop_3_yrs_plus_kindergarten',\n",
    "\t'pct_school_enroll_pop_3_yrs_plus_kindergarten',\n",
    "\t'est_school_enroll_pop_3_yrs_plus_elem_gr_1_8',\n",
    "\t'pct_school_enroll_pop_3_yrs_plus_elem_gr_1_8',\n",
    "\t'est_school_enroll_pop_3_yrs_plus_high_school_gr_9_12',\n",
    "\t'pct_school_enroll_pop_3_yrs_plus_high_school_gr_9_12',\n",
    "\t'est_school_enroll_pop_3_yrs_plus_college_or_graduate_school',\n",
    "\t'pct_school_enroll_pop_3_yrs_plus_college_or_graduate_school',\n",
    "\t'est_educ_pop_25_yrs_plus',\n",
    "\t'pct_educ_pop_25_yrs_plus',\n",
    "\t'est_educ_pop_25_yrs_plus_less_9th_grade',\n",
    "\t'pct_educ_pop_25_yrs_plus_less_9th_grade',\n",
    "\t'est_educ_pop_25_yrs_plus_9th_to_12th_grade_no_diploma',\n",
    "\t'pct_educ_pop_25_yrs_plus_9th_to_12th_grade_no_diploma',\n",
    "\t'est_educ_pop_25_yrs_plus_hs',\n",
    "\t'pct_educ_pop_25_yrs_plus_hs',\n",
    "\t'est_educ_pop_25_yrs_plus_some_college_no_degree',\n",
    "\t'pct_educ_pop_25_yrs_plus_some_college_no_degree',\n",
    "\t'est_educ_pop_25_yrs_plus_associates_degree',\n",
    "\t'pct_educ_pop_25_yrs_plus_associates_degree',\n",
    "\t'est_educ_pop_25_yrs_plus_bachelors_degree',\n",
    "\t'pct_educ_pop_25_yrs_plus_bachelors_degree',\n",
    "\t'est_educ_pop_25_yrs_plus_graduate_or_professional_degree',\n",
    "\t'pct_educ_pop_25_yrs_plus_graduate_or_professional_degree',\n",
    "\t'est_educ_pct_high_school_graduate_or_higher',\n",
    "\t'pct_educ_pct_high_school_graduate_or_higher',\n",
    "\t'est_educ_pct_bachelors_degree_or_higher',\n",
    "\t'pct_educ_pct_bachelors_degree_or_higher',\n",
    "\t'est_disability_tot_civilian_noninstitutionalized_pop',\n",
    "\t'pct_disability_tot_civilian_noninstitutionalized_pop',\n",
    "\t'est_disability_tot_disabled',\n",
    "\t'pct_disability_tot_disabled',\n",
    "\t'est_disability_u18_yrs',\n",
    "\t'pct_disability_u18_yrs',\n",
    "\t'est_disability_u18_yrs_with_a_disability',\n",
    "\t'pct_disability_u18_yrs_with_a_disability',\n",
    "\t'est_disability_18_to_64_yrs',\n",
    "\t'pct_disability_18_to_64_yrs',\n",
    "\t'est_disability_18_to_64_yrs_with_a_disability',\n",
    "\t'pct_disability_18_to_64_yrs_with_a_disability',\n",
    "\t'est_disability_65_yrs_plus',\n",
    "\t'pct_disability_65_yrs_plus',\n",
    "\t'est_disability_65_yrs_plus_with_a_disability',\n",
    "\t'pct_disability_65_yrs_plus_with_a_disability',\n",
    "\t'est_res_pop_1_yr_plus',\n",
    "\t'pct_res_pop_1_yr_plus',\n",
    "\t'est_res_pop_1_yr_plus_same_house',\n",
    "\t'pct_res_pop_1_yr_plus_same_house',\n",
    "\t'est_res_pop_1_yr_plus_diff_house_in_the_us',\n",
    "\t'pct_res_pop_1_yr_plus_diff_house_in_the_us',\n",
    "\t'est_res_pop_1_yr_plus_diff_house_in_the_us_same_county',\n",
    "\t'pct_res_pop_1_yr_plus_diff_house_in_the_us_same_county',\n",
    "\t'est_res_pop_1_yr_plus_diff_house_diff_county',\n",
    "\t'pct_res_pop_1_yr_plus_diff_house_diff_county',\n",
    "\t'est_res_pop_1_yr_plus_diff_house_diff_county_same_state',\n",
    "\t'pct_res_pop_1_yr_plus_diff_house_diff_county_same_state',\n",
    "\t'est_res_pop_1_yr_plus_diff_house_diff_county_diff_state',\n",
    "\t'pct_res_pop_1_yr_plus_diff_house_diff_county_diff_state',\n",
    "\t'est_res_pop_1_yr_plus_abroad',\n",
    "\t'pct_res_pop_1_yr_plus_abroad',\n",
    "\t'est_birth_tot_pop',\n",
    "\t'pct_birth_tot_pop',\n",
    "\t'est_birth_tot_pop_nat',\n",
    "\t'pct_birth_tot_pop_nat',\n",
    "\t'est_birth_tot_pop_nat_us',\n",
    "\t'pct_birth_tot_pop_nat_us',\n",
    "\t'est_birth_tot_pop_nat_us_state_of_res',\n",
    "\t'pct_birth_tot_pop_nat_us_state_of_res',\n",
    "\t'est_birth_tot_pop_nat_us_diff_state',\n",
    "\t'pct_birth_tot_pop_nat_us_diff_state',\n",
    "\t'est_birth_tot_pop_nat_abrd',\n",
    "\t'pct_birth_tot_pop_nat_abrd',\n",
    "\t'est_birth_tot_pop_foreign_born',\n",
    "\t'pct_birth_tot_pop_foreign_born',\n",
    "\t'est_us_cit_status_foreign_born_pop',\n",
    "\t'pct_us_cit_status_foreign_born_pop',\n",
    "\t'est_us_cit_status_foreign_born_pop_naturalized_us_citizen',\n",
    "\t'pct_us_cit_status_foreign_born_pop_naturalized_us_citizen',\n",
    "\t'est_us_cit_status_foreign_born_pop_not_a_us_citizen',\n",
    "\t'pct_us_cit_status_foreign_born_pop_not_a_us_citizen',\n",
    "\t'est_yr_of_entry_pop_born_outside_the_united_states',\n",
    "\t'pct_yr_of_entry_pop_born_outside_the_united_states',\n",
    "\t'est_yr_of_entry_nat',\n",
    "\t'pct_yr_of_entry_nat',\n",
    "\t'est_yr_of_entry_nat_entered_2010_or_later',\n",
    "\t'pct_yr_of_entry_nat_entered_2010_or_later',\n",
    "\t'est_yr_of_entry_nat_entered_before_2010',\n",
    "\t'pct_yr_of_entry_nat_entered_before_2010',\n",
    "\t'est_yr_of_entry_foreign_born',\n",
    "\t'pct_yr_of_entry_foreign_born',\n",
    "\t'est_yr_of_entry_foreign_born_entered_2010_or_later',\n",
    "\t'pct_yr_of_entry_foreign_born_entered_2010_or_later',\n",
    "\t'est_yr_of_entry_foreign_born_entered_before_2010',\n",
    "\t'pct_yr_of_entry_foreign_born_entered_before_2010',\n",
    "\t'est_computer_tot_hshld',\n",
    "\t'pct_computer_tot_hshld',\n",
    "\t'est_computer_tot_hshld_with_a_computer',\n",
    "\t'pct_computer_tot_hshld_with_a_computer',\n",
    "\t'est_computer_tot_hshld_broadband',\n",
    "\t'pct_computer_tot_hshld_broadband',\n",
    "\t'est_emp_pop_16_yrs_plus',\n",
    "\t'pct_emp_pop_16_yrs_plus',\n",
    "\t'est_emp_pop_16_yrs_plus_in_labor_force',\n",
    "\t'pct_emp_pop_16_yrs_plus_in_labor_force',\n",
    "\t'est_emp_pop_16_yrs_plus_in_labor_force_civ',\n",
    "\t'pct_emp_pop_16_yrs_plus_in_labor_force_civ',\n",
    "\t'est_emp_pop_16_yrs_plus_in_labor_force_civ_emp',\n",
    "\t'pct_emp_pop_16_yrs_plus_in_labor_force_civ_emp',\n",
    "\t'est_emp_pop_16_yrs_plus_in_labor_force_civ_unemp',\n",
    "\t'pct_emp_pop_16_yrs_plus_in_labor_force_civ_unemp',\n",
    "\t'est_emp_pop_16_yrs_plus_in_labor_force_armed_forces',\n",
    "\t'pct_emp_pop_16_yrs_plus_in_labor_force_armed_forces',\n",
    "\t'est_emp_pop_16_yrs_plus_not_in_labor_force',\n",
    "\t'pct_emp_pop_16_yrs_plus_not_in_labor_force',\n",
    "\t'est_emp_civ',\n",
    "\t'pct_emp_civ',\n",
    "\t'est_emp_civ_unemployment_rate',\n",
    "\t'pct_emp_civ_unemployment_rate',\n",
    "\t'est_emp_fems_16_yrs_plus',\n",
    "\t'pct_emp_fems_16_yrs_plus',\n",
    "\t'est_emp_fems_16_yrs_plus_in_labor_force',\n",
    "\t'pct_emp_fems_16_yrs_plus_in_labor_force',\n",
    "\t'est_emp_fems_16_yrs_plus_in_labor_force_civ',\n",
    "\t'pct_emp_fems_16_yrs_plus_in_labor_force_civ',\n",
    "\t'est_emp_fems_16_yrs_plus_in_labor_force_civ_emp',\n",
    "\t'pct_emp_fems_16_yrs_plus_in_labor_force_civ_emp',\n",
    "\t'est_emp_child_u6_yrs',\n",
    "\t'pct_emp_child_u6_yrs',\n",
    "\t'est_emp_child_u6_yrs_all_parents_in_fam_in_labor_force',\n",
    "\t'pct_emp_child_u6_yrs_all_parents_in_fam_in_labor_force',\n",
    "\t'est_emp_child_6_to_17_yrs',\n",
    "\t'pct_emp_child_6_to_17_yrs',\n",
    "\t'est_emp_child_6_to_17_yrs_all_parents_in_fam_in_labor_force',\n",
    "\t'pct_emp_child_6_to_17_yrs_all_parents_in_fam_in_labor_force',\n",
    "\t'est_inc_tot_hshld',\n",
    "\t'pct_inc_tot_hshld',\n",
    "\t'est_inc_tot_hshld_less_than_10000',\n",
    "\t'pct_inc_tot_hshld_less_than_10000',\n",
    "\t'est_inc_tot_hshld_10000_to_14999',\n",
    "\t'pct_inc_tot_hshld_10000_to_14999',\n",
    "\t'est_inc_tot_hshld_15000_to_24999',\n",
    "\t'pct_inc_tot_hshld_15000_to_24999',\n",
    "\t'est_inc_tot_hshld_25000_to_34999',\n",
    "\t'pct_inc_tot_hshld_25000_to_34999',\n",
    "\t'est_inc_tot_hshld_35000_to_49999',\n",
    "\t'pct_inc_tot_hshld_35000_to_49999',\n",
    "\t'est_inc_tot_hshld_50000_to_74999',\n",
    "\t'pct_inc_tot_hshld_50000_to_74999',\n",
    "\t'est_inc_tot_hshld_75000_to_99999',\n",
    "\t'pct_inc_tot_hshld_75000_to_99999',\n",
    "\t'est_inc_tot_hshld_100000_to_149999',\n",
    "\t'pct_inc_tot_hshld_100000_to_149999',\n",
    "\t'est_inc_tot_hshld_150000_to_199999',\n",
    "\t'pct_inc_tot_hshld_150000_to_199999',\n",
    "\t'est_inc_tot_hshld_200000_or_more',\n",
    "\t'pct_inc_tot_hshld_200000_or_more',\n",
    "\t'est_inc_tot_hshld_median_household_inc_dol',\n",
    "\t'pct_inc_tot_hshld_median_household_inc_dol',\n",
    "\t'est_inc_tot_hshld_mean_household_inc_dol',\n",
    "\t'pct_inc_tot_hshld_mean_household_inc_dol',\n",
    "\t'est_inc_with_earnings',\n",
    "\t'pct_inc_with_earnings',\n",
    "\t'est_inc_with_earnings_mean_earnings_dol',\n",
    "\t'pct_inc_with_earnings_mean_earnings_dol',\n",
    "\t'est_inc_with_soc_sec',\n",
    "\t'pct_inc_with_soc_sec',\n",
    "\t'est_inc_with_soc_sec_mean_soc_sec_inc_dol',\n",
    "\t'pct_inc_with_soc_sec_mean_soc_sec_inc_dol',\n",
    "\t'est_inc_with_retirement_inc',\n",
    "\t'pct_inc_with_retirement_inc',\n",
    "\t'est_inc_with_retirement_inc_mean_retirement_inc_dol',\n",
    "\t'pct_inc_with_retirement_inc_mean_retirement_inc_dol',\n",
    "\t'est_inc_with_supp_inc',\n",
    "\t'pct_inc_with_supp_inc',\n",
    "\t'est_inc_with_supp_inc_mean_supp_inc_dol',\n",
    "\t'pct_inc_with_supp_inc_mean_supp_inc_dol',\n",
    "\t'est_inc_with_cash_pub_ast_inc',\n",
    "\t'pct_inc_with_cash_pub_ast_inc',\n",
    "\t'est_inc_with_cash_pub_ast_inc_mean_cash_pub_ast_inc_dol',\n",
    "\t'pct_inc_with_cash_pub_ast_inc_mean_cash_pub_ast_inc_dol',\n",
    "\t'est_inc_with_food_stamp',\n",
    "\t'pct_inc_with_food_stamp',\n",
    "\t'est_inc_fam',\n",
    "\t'pct_inc_fam',\n",
    "\t'est_inc_fam_less_than_10000',\n",
    "\t'pct_inc_fam_less_than_10000',\n",
    "\t'est_inc_fam_10000_to_14999',\n",
    "\t'pct_inc_fam_10000_to_14999',\n",
    "\t'est_inc_fam_15000_to_24999',\n",
    "\t'pct_inc_fam_15000_to_24999',\n",
    "\t'est_inc_fam_25000_to_34999',\n",
    "\t'pct_inc_fam_25000_to_34999',\n",
    "\t'est_inc_fam_35000_to_49999',\n",
    "\t'pct_inc_fam_35000_to_49999',\n",
    "\t'est_inc_fam_50000_to_74999',\n",
    "\t'pct_inc_fam_50000_to_74999',\n",
    "\t'est_inc_fam_75000_to_99999',\n",
    "\t'pct_inc_fam_75000_to_99999',\n",
    "\t'est_inc_fam_100000_to_149999',\n",
    "\t'pct_inc_fam_100000_to_149999',\n",
    "\t'est_inc_fam_150000_to_199999',\n",
    "\t'pct_inc_fam_150000_to_199999',\n",
    "\t'est_inc_fam_200000_or_more',\n",
    "\t'pct_inc_fam_200000_or_more',\n",
    "\t'est_inc_fam_median_fam_inc_dol',\n",
    "\t'pct_inc_fam_median_fam_inc_dol',\n",
    "\t'est_inc_fam_mean_fam_inc_dol',\n",
    "\t'pct_inc_fam_mean_fam_inc_dol',\n",
    "\t'est_inc_per_capita_inc_dol',\n",
    "\t'pct_inc_per_capita_inc_dol',\n",
    "\t'est_inc_nonfam_hshld',\n",
    "\t'pct_inc_nonfam_hshld',\n",
    "\t'est_inc_nonfam_hshld_median_nonfam_inc_dol',\n",
    "\t'pct_inc_nonfam_hshld_median_nonfam_inc_dol',\n",
    "\t'est_inc_nonfam_hshld_mean_nonfam_inc_dol',\n",
    "\t'pct_inc_nonfam_hshld_mean_nonfam_inc_dol',\n",
    "\t'est_inc_median_earnings_for_workers_dol',\n",
    "\t'pct_inc_median_earnings_for_workers_dol',\n",
    "\t'est_inc_median_earnings_for_male_full_time_ann_workers_dol',\n",
    "\t'pct_inc_median_earnings_for_male_full_time_ann_workers_dol',\n",
    "\t'est_inc_median_earnings_for_fem_full_time_ann_workers_dol',\n",
    "\t'pct_inc_median_earnings_for_fem_full_time_ann_workers_dol',\n",
    "\t'est_pct_of_fam_pov_all_fam',\n",
    "\t'pct_pct_of_fam_pov_all_fam',\n",
    "\t'est_pct_of_fam_pov_all_fam_child_u18_yrs',\n",
    "\t'pct_pct_of_fam_pov_all_fam_child_u18_yrs',\n",
    "\t'est_pct_of_fam_pov_all_fam_child_u5_yrs_only',\n",
    "\t'pct_pct_of_fam_pov_all_fam_child_u5_yrs_only',\n",
    "\t'est_pct_of_fam_pov_marr_fam',\n",
    "\t'pct_pct_of_fam_pov_marr_fam',\n",
    "\t'est_pct_of_fam_pov_marr_fam_child_u18_yrs',\n",
    "\t'pct_pct_of_fam_pov_marr_fam_child_u18_yrs',\n",
    "\t'est_pct_of_fam_pov_marr_fam_child_u5_yrs_only',\n",
    "\t'pct_pct_of_fam_pov_marr_fam_child_u5_yrs_only',\n",
    "\t'est_pct_of_fam_pov_fam_with_fem_sngl',\n",
    "\t'pct_pct_of_fam_pov_fam_with_fem_sngl',\n",
    "\t'est_pct_of_fam_pov_fam_with_fem_sngl_child_u18_yrs',\n",
    "\t'pct_pct_of_fam_pov_fam_with_fem_sngl_child_u18_yrs',\n",
    "\t'est_pct_of_fam_pov_fam_with_fem_sngl_child_u5_yrs_only',\n",
    "\t'pct_pct_of_fam_pov_fam_with_fem_sngl_child_u5_yrs_only',\n",
    "\t'est_pct_of_fam_pov_all_people',\n",
    "\t'pct_pct_of_fam_pov_all_people',\n",
    "\t'est_pct_of_fam_pov_all_people_u18_yrs',\n",
    "\t'pct_pct_of_fam_pov_all_people_u18_yrs',\n",
    "\t'est_pct_of_fam_pov_all_people_u18_yrs_child_u18_yrs',\n",
    "\t'pct_pct_of_fam_pov_all_people_u18_yrs_child_u18_yrs',\n",
    "\t'est_pct_of_fam_pov_all_people_u18_yrs_child_u5_yrs',\n",
    "\t'pct_pct_of_fam_pov_all_people_u18_yrs_child_u5_yrs',\n",
    "\t'est_pct_of_fam_pov_all_people_u18_yrs_child_5_to_17_yrs',\n",
    "\t'pct_pct_of_fam_pov_all_people_u18_yrs_child_5_to_17_yrs',\n",
    "\t'est_pct_of_fam_pov_all_people_18_yrs_plus',\n",
    "\t'pct_pct_of_fam_pov_all_people_18_yrs_plus',\n",
    "\t'est_pct_of_fam_pov_all_people_18_yrs_plus_18_to_64_yrs',\n",
    "\t'pct_pct_of_fam_pov_all_people_18_yrs_plus_18_to_64_yrs',\n",
    "\t'est_pct_of_fam_pov_all_people_18_yrs_plus_65_yrs_plus',\n",
    "\t'pct_pct_of_fam_pov_all_people_18_yrs_plus_65_yrs_plus',\n",
    "\t'est_pct_of_fam_pov_people_in_fam',\n",
    "\t'pct_pct_of_fam_pov_people_in_fam',\n",
    "\t'est_pct_of_fam_pov_unrelated_individuals_15_yrs_plus',\n",
    "\t'pct_pct_of_fam_pov_unrelated_individuals_15_yrs_plus',\n",
    "\t'est_sex_and_age_tot_pop',\n",
    "\t'pct_sex_and_age_tot_pop',\n",
    "\t'est_sex_and_age_tot_pop_male',\n",
    "\t'pct_sex_and_age_tot_pop_male',\n",
    "\t'est_sex_and_age_tot_pop_female',\n",
    "\t'pct_sex_and_age_tot_pop_female',\n",
    "\t'est_sex_and_age_under_5_yrs',\n",
    "\t'pct_sex_and_age_under_5_yrs',\n",
    "\t'est_sex_and_age_5_to_9_yrs',\n",
    "\t'pct_sex_and_age_5_to_9_yrs',\n",
    "\t'est_sex_and_age_10_to_14_yrs',\n",
    "\t'pct_sex_and_age_10_to_14_yrs',\n",
    "\t'est_sex_and_age_15_to_19_yrs',\n",
    "\t'pct_sex_and_age_15_to_19_yrs',\n",
    "\t'est_sex_and_age_20_to_24_yrs',\n",
    "\t'pct_sex_and_age_20_to_24_yrs',\n",
    "\t'est_sex_and_age_25_to_34_yrs',\n",
    "\t'pct_sex_and_age_25_to_34_yrs',\n",
    "\t'est_sex_and_age_35_to_44_yrs',\n",
    "\t'pct_sex_and_age_35_to_44_yrs',\n",
    "\t'est_sex_and_age_45_to_54_yrs',\n",
    "\t'pct_sex_and_age_45_to_54_yrs',\n",
    "\t'est_sex_and_age_55_to_59_yrs',\n",
    "\t'pct_sex_and_age_55_to_59_yrs',\n",
    "\t'est_sex_and_age_60_to_64_yrs',\n",
    "\t'pct_sex_and_age_60_to_64_yrs',\n",
    "\t'est_sex_and_age_65_to_74_yrs',\n",
    "\t'pct_sex_and_age_65_to_74_yrs',\n",
    "\t'est_sex_and_age_75_to_84_yrs',\n",
    "\t'pct_sex_and_age_75_to_84_yrs',\n",
    "\t'est_sex_and_age_85_yrs_plus',\n",
    "\t'pct_sex_and_age_85_yrs_plus',\n",
    "\t'est_sex_and_age_median_age_yrs',\n",
    "\t'pct_sex_and_age_median_age_yrs',\n",
    "\t'est_sex_and_age_18_yrs_plus',\n",
    "\t'pct_sex_and_age_18_yrs_plus',\n",
    "\t'est_sex_and_age_21_yrs_plus',\n",
    "\t'pct_sex_and_age_21_yrs_plus',\n",
    "\t'est_sex_and_age_62_yrs_plus',\n",
    "\t'pct_sex_and_age_62_yrs_plus',\n",
    "\t'est_sex_and_age_65_yrs_plus',\n",
    "\t'pct_sex_and_age_65_yrs_plus',\n",
    "\t'est_sex_and_age_18_yrs_plus1',\n",
    "\t'pct_sex_and_age_18_yrs_plus1',\n",
    "\t'est_sex_and_age_18_yrs_plus_male',\n",
    "\t'pct_sex_and_age_18_yrs_plus_male',\n",
    "\t'est_sex_and_age_18_yrs_plus_female',\n",
    "\t'pct_sex_and_age_18_yrs_plus_female',\n",
    "\t'est_sex_and_age_65_yrs_plus1',\n",
    "\t'pct_sex_and_age_65_yrs_plus1',\n",
    "\t'est_sex_and_age_65_yrs_plus_male',\n",
    "\t'pct_sex_and_age_65_yrs_plus_male',\n",
    "\t'est_sex_and_age_65_yrs_plus_female',\n",
    "\t'pct_sex_and_age_65_yrs_plus_female',\n",
    "\t'est_race_tot_pop',\n",
    "\t'pct_race_tot_pop',\n",
    "\t'est_race_tot_pop_one_race',\n",
    "\t'pct_race_tot_pop_one_race',\n",
    "\t'est_race_tot_pop_two_or_more_races',\n",
    "\t'pct_race_tot_pop_two_or_more_races',\n",
    "\t'est_race_one_race',\n",
    "\t'pct_race_one_race',\n",
    "\t'est_race_one_race_white',\n",
    "\t'pct_race_one_race_white',\n",
    "\t'est_race_one_race_black',\n",
    "\t'pct_race_one_race_black',\n",
    "\t'est_race_one_race_nat_am_and_alaska_native',\n",
    "\t'pct_race_one_race_nat_am_and_alaska_native',\n",
    "\t'est_race_one_race_asian',\n",
    "\t'pct_race_one_race_asian',\n",
    "\t'est_race_one_race_nat_hi_and_pi',\n",
    "\t'pct_race_one_race_nat_hi_and_pi',\n",
    "\t'est_race_one_race_some_other_race',\n",
    "\t'pct_race_one_race_some_other_race',\n",
    "\t'est_race_two_or_more_races',\n",
    "\t'pct_race_two_or_more_races',\n",
    "\t'est_race_alone_or_in_part_tot_pop',\n",
    "\t'pct_race_alone_or_in_part_tot_pop',\n",
    "\t'est_race_alone_or_in_part_tot_pop_white',\n",
    "\t'pct_race_alone_or_in_part_tot_pop_white',\n",
    "\t'est_race_alone_or_in_part_tot_pop_black',\n",
    "\t'pct_race_alone_or_in_part_tot_pop_black',\n",
    "\t'est_race_alone_or_in_part_tot_pop_nat_am_and_alaska_native',\n",
    "\t'pct_race_alone_or_in_part_tot_pop_nat_am_and_alaska_native',\n",
    "\t'est_race_alone_or_in_part_tot_pop_asian',\n",
    "\t'pct_race_alone_or_in_part_tot_pop_asian',\n",
    "\t'est_race_alone_or_in_part_tot_pop_nat_hi_and_pi',\n",
    "\t'pct_race_alone_or_in_part_tot_pop_nat_hi_and_pi',\n",
    "\t'est_race_alone_or_in_part_tot_pop_some_other_race',\n",
    "\t'pct_race_alone_or_in_part_tot_pop_some_other_race',\n",
    "\t'est_latin_and_race_tot_pop_latin_of_any_race',\n",
    "\t'pct_latin_and_race_tot_pop_latin_of_any_race',\n",
    "\t'est_cit_voting_age_pop_cit_18_plus_pop',\n",
    "\t'pct_cit_voting_age_pop_cit_18_plus_pop',\n",
    "\t'est_cit_voting_age_pop_cit_18_plus_pop_male',\n",
    "\t'pct_cit_voting_age_pop_cit_18_plus_pop_male',\n",
    "\t'est_cit_voting_age_pop_cit_18_plus_pop_female',\n",
    "\t'pct_cit_voting_age_pop_cit_18_plus_pop_female',\n",
    "\t'tot_est_age3plus_enrolled_in_school',\n",
    "\t'pct_est_age3plus_enrolled_in_school',\n",
    "\t'in_public_school_est_age3plus_enrolled_in_school',\n",
    "\t'pct_in_pubsch_est_age3plus_enrolled_in_school',\n",
    "\t'in_private_school_est_age3plus_enrolled_in_school',\n",
    "\t'pct_in_private_school_est_age3plus_enrolled_in_school',\n",
    "\t'avg_00650',\n",
    "\t'avg_00660',\n",
    "\t'avg_00940',\n",
    "\t'avg_01051',\n",
    "\t'avg_32102',\n",
    "\t'avg_34418',\n",
    "\t'avg_34423',\n",
    "\t'avg_39175',\n",
    "\t'max_00650',\n",
    "\t'max_00660',\n",
    "\t'max_00940',\n",
    "\t'max_01051',\n",
    "\t'max_32102',\n",
    "\t'max_34418',\n",
    "\t'max_34423',\n",
    "\t'max_39175',\n",
    "\t'min_00650',\n",
    "\t'min_00660',\n",
    "\t'min_00940',\n",
    "\t'min_01051',\n",
    "\t'min_32102',\n",
    "\t'min_34418',\n",
    "\t'min_34423',\n",
    "\t'min_39175',\n",
    "\t'num_00650',\n",
    "\t'num_00660',\n",
    "\t'num_00940',\n",
    "\t'num_01051',\n",
    "\t'num_32102',\n",
    "\t'num_34418',\n",
    "\t'num_34423',\n",
    "\t'num_39175',\n",
    "\t'thr_00650',\n",
    "\t'thr_00660',\n",
    "\t'thr_00940',\n",
    "\t'thr_01051',\n",
    "\t'thr_32102',\n",
    "\t'thr_34418',\n",
    "\t'thr_34423',\n",
    "\t'thr_39175',\n",
    "\t'pct_thr_00650',\n",
    "\t'pct_thr_00660',\n",
    "\t'pct_thr_01051',\n",
    "\t'pct_thr_32102',\n",
    "\t'pct_thr_34418',\n",
    "\t'pct_thr_34423',\n",
    "\t'pct_thr_39175', \n",
    "]"
   ]
  },
  {
   "cell_type": "markdown",
   "metadata": {},
   "source": [
    "### Assign the predictor field name list (11)"
   ]
  },
  {
   "cell_type": "code",
   "execution_count": 17,
   "metadata": {
    "collapsed": true
   },
   "outputs": [],
   "source": [
    "predictor_names = [\n",
    "\t'measurement_count',\n",
    "\t'min_lead_result',\n",
    "\t'max_lead_result',\n",
    "\t'average_lead_result',\n",
    "\t'min_lead_forcezeros',\n",
    "\t'max_lead_forcezeros',\n",
    "\t'average_lead_result_forcezeros',\n",
    "\t'min_lead_forceones',\n",
    "\t'max_lead_forceones',\n",
    "\t'average_lead_result_forceones',\n",
    "\t'lead_result_max_bucket',\n",
    "]"
   ]
  },
  {
   "cell_type": "code",
   "execution_count": 18,
   "metadata": {},
   "outputs": [
    {
     "data": {
      "text/plain": [
       "757"
      ]
     },
     "execution_count": 18,
     "metadata": {},
     "output_type": "execute_result"
    }
   ],
   "source": [
    "len(feature_names_all)"
   ]
  },
  {
   "cell_type": "code",
   "execution_count": 19,
   "metadata": {},
   "outputs": [
    {
     "data": {
      "text/plain": [
       "44"
      ]
     },
     "execution_count": 19,
     "metadata": {},
     "output_type": "execute_result"
    }
   ],
   "source": [
    "len(feature_names)"
   ]
  },
  {
   "cell_type": "code",
   "execution_count": 20,
   "metadata": {},
   "outputs": [
    {
     "data": {
      "text/plain": [
       "11"
      ]
     },
     "execution_count": 20,
     "metadata": {},
     "output_type": "execute_result"
    }
   ],
   "source": [
    "len(predictor_names)"
   ]
  },
  {
   "cell_type": "markdown",
   "metadata": {},
   "source": [
    "### Convert X and y to numeric values"
   ]
  },
  {
   "cell_type": "code",
   "execution_count": 22,
   "metadata": {
    "collapsed": true
   },
   "outputs": [],
   "source": [
    "X = X[feature_names]\n",
    "X = X.apply(pd.to_numeric)"
   ]
  },
  {
   "cell_type": "code",
   "execution_count": 23,
   "metadata": {
    "collapsed": true
   },
   "outputs": [],
   "source": [
    "y = df_cond['lead_result_max_bucket']\n",
    "y = y.replace('max_below_5', 0).replace('max_5_plus', 1).replace('max_15_plus', 1)"
   ]
  },
  {
   "cell_type": "markdown",
   "metadata": {},
   "source": [
    "## Split..."
   ]
  },
  {
   "cell_type": "markdown",
   "metadata": {},
   "source": [
    "### Training and test sets"
   ]
  },
  {
   "cell_type": "code",
   "execution_count": 27,
   "metadata": {
    "collapsed": true
   },
   "outputs": [],
   "source": [
    "training_features, test_features, \\\n",
    "training_target, test_target, = train_test_split(X, y, test_size = 0.33, random_state=12)"
   ]
  },
  {
   "cell_type": "code",
   "execution_count": 25,
   "metadata": {},
   "outputs": [
    {
     "name": "stdout",
     "output_type": "stream",
     "text": [
      "(831, 44) (831,) (410, 44) (410,)\n"
     ]
    }
   ],
   "source": [
    "print(training_features.shape, training_target.shape, test_features.shape, test_target.shape)"
   ]
  },
  {
   "cell_type": "code",
   "execution_count": 28,
   "metadata": {},
   "outputs": [
    {
     "name": "stdout",
     "output_type": "stream",
     "text": [
      "0    638\n",
      "1    193\n",
      "Name: lead_result_max_bucket, dtype: int64\n",
      "0    331\n",
      "1     79\n",
      "Name: lead_result_max_bucket, dtype: int64\n"
     ]
    }
   ],
   "source": [
    "print(training_target.value_counts())\n",
    "print(test_target.value_counts())"
   ]
  },
  {
   "cell_type": "markdown",
   "metadata": {},
   "source": [
    "### Training and validation sets"
   ]
  },
  {
   "cell_type": "code",
   "execution_count": 29,
   "metadata": {
    "collapsed": true
   },
   "outputs": [],
   "source": [
    "X_train, X_val, \\\n",
    "y_train, y_val = train_test_split(training_features, training_target, test_size=0.33, random_state=12)"
   ]
  },
  {
   "cell_type": "code",
   "execution_count": 30,
   "metadata": {},
   "outputs": [
    {
     "name": "stdout",
     "output_type": "stream",
     "text": [
      "(556, 44) (556,) (275, 44) (275,)\n"
     ]
    }
   ],
   "source": [
    "print(X_train.shape, y_train.shape, X_val.shape, y_val.shape)"
   ]
  },
  {
   "cell_type": "code",
   "execution_count": 31,
   "metadata": {},
   "outputs": [
    {
     "name": "stdout",
     "output_type": "stream",
     "text": [
      "0    437\n",
      "1    119\n",
      "Name: lead_result_max_bucket, dtype: int64\n",
      "0    201\n",
      "1     74\n",
      "Name: lead_result_max_bucket, dtype: int64\n"
     ]
    }
   ],
   "source": [
    "print(y_train.value_counts())\n",
    "print(y_val.value_counts())"
   ]
  },
  {
   "cell_type": "markdown",
   "metadata": {},
   "source": [
    "## Preprocess..."
   ]
  },
  {
   "cell_type": "code",
   "execution_count": 32,
   "metadata": {
    "collapsed": true
   },
   "outputs": [],
   "source": [
    "# No sampling\n",
    "#X_resampled = X_train.values\n",
    "#y_resampled = y_train.values\n",
    "\n",
    "# RandomOverSampler\n",
    "#ros = RandomOverSampler(random_state=0)\n",
    "#X_resampled, y_resampled = ros.fit_sample(X_train, y_train)\n",
    "\n",
    "# SMOTE\n",
    "smo = SMOTE(random_state=0)\n",
    "X_resampled, y_resampled = smo.fit_sample(X_train, y_train)"
   ]
  },
  {
   "cell_type": "code",
   "execution_count": 33,
   "metadata": {},
   "outputs": [
    {
     "name": "stdout",
     "output_type": "stream",
     "text": [
      "(874, 44) (874,)\n"
     ]
    }
   ],
   "source": [
    "print(X_resampled.shape, y_resampled.shape)"
   ]
  },
  {
   "cell_type": "code",
   "execution_count": 34,
   "metadata": {},
   "outputs": [
    {
     "name": "stdout",
     "output_type": "stream",
     "text": [
      "Counter({1: 437, 0: 437})\n"
     ]
    }
   ],
   "source": [
    "print(collections.Counter(y_resampled))"
   ]
  },
  {
   "cell_type": "markdown",
   "metadata": {},
   "source": [
    "## Model with param optimization and cv..."
   ]
  },
  {
   "cell_type": "markdown",
   "metadata": {},
   "source": [
    "### Run GridSearchCV using the cv_params and ind_params "
   ]
  },
  {
   "cell_type": "markdown",
   "metadata": {},
   "source": [
    "Note this takes ~12-19 min with 44 features and ~119-200 minutes for the full 700+ features on a mediocre laptop."
   ]
  },
  {
   "cell_type": "code",
   "execution_count": 35,
   "metadata": {
    "scrolled": true
   },
   "outputs": [
    {
     "name": "stdout",
     "output_type": "stream",
     "text": [
      "\tStarting...2018-04-15 11:34:21.319819\n",
      "\n",
      "Best: 0.974828 using {'colsample_bylevel': 0.1, 'max_depth': 9, 'min_child_weight': 3, 'scale_pos_weight': 1000, 'subsample': 0.7}\n",
      "\n",
      "\tCompleted in: 20.81 min\n",
      "\n"
     ]
    }
   ],
   "source": [
    "start = time.time()\n",
    "\n",
    "print(\"\\tStarting...%s\\n\" % (str(datetime.now())))\n",
    "\n",
    "cv_params = {'max_depth': [5, 7, 9, 11, 13], \n",
    "             'min_child_weight': [1, 3, 5],\n",
    "             'colsample_bylevel' : [0.1, 0.2, 0.3, 0.5, 1.0],\n",
    "             'subsample': [0.7, 0.8, 0.9],\n",
    "             'scale_pos_weight': [1, 1000]\n",
    "            }\n",
    "\n",
    "ind_params = {'learning_rate': 0.1, \n",
    "              'n_estimators': 1000,\n",
    "              'colsample_bytree': 0.8,\n",
    "              'seed': 0, \n",
    "              'objective': 'binary:logistic'}\n",
    "\n",
    "# make a lift scorer\n",
    "lift_scorer = make_scorer(lift_score)\n",
    "\n",
    "scoring = 'recall'\n",
    "\n",
    "# 'accuracy', 'recall', lift_scorer, 'roc_auc'\n",
    "optimized_XGB = GridSearchCV(xgb.XGBClassifier(**ind_params), \n",
    "                            cv_params, scoring = scoring, cv = 10, n_jobs = -1)\n",
    "\n",
    "optimized_XGB.fit(X_resampled, y_resampled)\n",
    "\n",
    "print(\"Best: %f using %s\" % (optimized_XGB.best_score_, optimized_XGB.best_params_))\n",
    "\n",
    "print(\"\\n\\tCompleted in: %.2f min\\n\" % ((time.time() - start)/60.0))"
   ]
  },
  {
   "cell_type": "markdown",
   "metadata": {},
   "source": [
    "### Capture the full parameter dictionary to use going forward"
   ]
  },
  {
   "cell_type": "code",
   "execution_count": 36,
   "metadata": {},
   "outputs": [
    {
     "name": "stdout",
     "output_type": "stream",
     "text": [
      "{'learning_rate': 0.1, 'n_estimators': 1000, 'colsample_bytree': 0.8, 'seed': 0, 'objective': 'binary:logistic', 'colsample_bylevel': 0.1, 'max_depth': 9, 'min_child_weight': 3, 'scale_pos_weight': 1000, 'subsample': 0.7}\n"
     ]
    }
   ],
   "source": [
    "best_params = dict(ind_params)\n",
    "best_params.update(optimized_XGB.best_params_)\n",
    "print(best_params)"
   ]
  },
  {
   "cell_type": "markdown",
   "metadata": {},
   "source": [
    "### Utilize the best_params with cv and early stopping to prevent overfitting"
   ]
  },
  {
   "cell_type": "code",
   "execution_count": 37,
   "metadata": {
    "collapsed": true
   },
   "outputs": [],
   "source": [
    "dtrain = xgb.DMatrix(X_resampled, label=y_resampled, feature_names=feature_names)\n",
    "dval = xgb.DMatrix(X_val, label=y_val, feature_names=feature_names)\n",
    "dtest = xgb.DMatrix(test_features, label=test_target, feature_names=feature_names)"
   ]
  },
  {
   "cell_type": "code",
   "execution_count": 38,
   "metadata": {},
   "outputs": [
    {
     "name": "stdout",
     "output_type": "stream",
     "text": [
      "(874, 44) (874,) (275, 44) (275,) (410, 44) (410,)\n"
     ]
    }
   ],
   "source": [
    "print(X_resampled.shape, y_resampled.shape, X_val.shape, y_val.shape, test_features.shape, test_target.shape)"
   ]
  },
  {
   "cell_type": "code",
   "execution_count": 39,
   "metadata": {},
   "outputs": [
    {
     "name": "stdout",
     "output_type": "stream",
     "text": [
      "      test-error-mean  test-error-std  train-error-mean  train-error-std\n",
      "1051         0.226411        0.042302               0.0              0.0\n",
      "1052         0.226411        0.042302               0.0              0.0\n",
      "1053         0.226411        0.042302               0.0              0.0\n",
      "1054         0.226411        0.042302               0.0              0.0\n",
      "1055         0.224112        0.042673               0.0              0.0\n",
      "\tCompleted in: 0.13 min\n",
      "\n"
     ]
    }
   ],
   "source": [
    "start = time.time()\n",
    "\n",
    "# 'error', 'auc'\n",
    "cv_xgb = xgb.cv(params = best_params, \n",
    "                dtrain = dtrain, \n",
    "                num_boost_round = 3000, \n",
    "                nfold = 10,\n",
    "                metrics = ['error'], \n",
    "                early_stopping_rounds = 100) \n",
    "\n",
    "print(cv_xgb.tail(5))\n",
    "\n",
    "num_boost = cv_xgb.tail(1).index.item()\n",
    "\n",
    "print(\"\\tCompleted in: %.2f min\\n\" % ((time.time() - start)/60.0))"
   ]
  },
  {
   "cell_type": "code",
   "execution_count": 40,
   "metadata": {
    "scrolled": true
   },
   "outputs": [
    {
     "name": "stdout",
     "output_type": "stream",
     "text": [
      "CV test error at 1055 is 22.41% or 77.59% accuracy +/- 4.27%\n"
     ]
    }
   ],
   "source": [
    "print(\"CV test error at %s is %.2f%% or %.2f%% accuracy +/- %0.2f%%\" % (num_boost,\n",
    "                                                                         (cv_xgb.iloc[-1]['test-error-mean'] * 100),\n",
    "                                                                         (1-cv_xgb.iloc[-1]['test-error-mean']) * 100,\n",
    "                                                                         cv_xgb.iloc[-1]['test-error-std'] * 100))"
   ]
  },
  {
   "cell_type": "markdown",
   "metadata": {},
   "source": [
    "### Save the \"best\" model"
   ]
  },
  {
   "cell_type": "code",
   "execution_count": 41,
   "metadata": {
    "collapsed": true
   },
   "outputs": [],
   "source": [
    "final_xgb = xgb.train(best_params, dtrain, num_boost_round = num_boost)"
   ]
  },
  {
   "cell_type": "markdown",
   "metadata": {},
   "source": [
    "### Check out the feature importance"
   ]
  },
  {
   "cell_type": "code",
   "execution_count": 42,
   "metadata": {},
   "outputs": [
    {
     "data": {
      "text/plain": [
       "<matplotlib.axes._subplots.AxesSubplot at 0x116ff3710>"
      ]
     },
     "execution_count": 42,
     "metadata": {},
     "output_type": "execute_result"
    },
    {
     "data": {
      "image/png": "[encoded data removed]",
      "text/plain": [
       "<Figure size 576x864 with 1 Axes>"
      ]
     },
     "metadata": {},
     "output_type": "display_data"
    }
   ],
   "source": [
    "importances = final_xgb.get_fscore()\n",
    "\n",
    "importance_frame = pd.DataFrame({'Importance': list(importances.values()), 'Feature': list(importances.keys())})\n",
    "importance_frame.sort_values(by = 'Importance', inplace = True)\n",
    "importance_frame.plot(kind = 'barh', x = 'Feature', figsize = (8,12), color = 'orange')"
   ]
  },
  {
   "cell_type": "markdown",
   "metadata": {},
   "source": [
    "### Set the cutoff and base_filename needed"
   ]
  },
  {
   "cell_type": "code",
   "execution_count": 43,
   "metadata": {
    "collapsed": true
   },
   "outputs": [],
   "source": [
    "cutoff = 0.75\n",
    "base_filename = '04-15-2018_SubsetFeatures-TestTrainVal-SMOTE-XGBoostRecallError-ParamOptCV'"
   ]
  },
  {
   "cell_type": "markdown",
   "metadata": {},
   "source": [
    "### Save feature importance"
   ]
  },
  {
   "cell_type": "code",
   "execution_count": 44,
   "metadata": {
    "collapsed": true
   },
   "outputs": [],
   "source": [
    "(pd.DataFrame.from_dict(data=importances, orient='index')\n",
    "   .to_csv(base_filename + '_featimp.csv', header=False))"
   ]
  },
  {
   "cell_type": "markdown",
   "metadata": {},
   "source": [
    "## Evaluate the final model using the validation data..."
   ]
  },
  {
   "cell_type": "markdown",
   "metadata": {},
   "source": [
    "### Calculate prediction probabilities on the dval matrix"
   ]
  },
  {
   "cell_type": "code",
   "execution_count": 45,
   "metadata": {
    "scrolled": false
   },
   "outputs": [
    {
     "data": {
      "text/plain": [
       "array([  8.25039893e-02,   4.88494098e-01,   9.06179130e-01,\n",
       "         9.59937215e-01,   7.72983313e-01,   5.12206927e-03,\n",
       "         5.89576457e-03,   6.61568642e-01,   9.79870796e-01,\n",
       "         1.24585404e-05,   8.59951377e-01,   2.05833931e-02,\n",
       "         9.03089643e-01,   2.64882055e-06,   9.73773539e-01,\n",
       "         8.24429095e-04,   7.86230247e-03,   9.66904312e-03,\n",
       "         2.14133807e-03,   1.34886466e-02,   1.30268978e-04,\n",
       "         9.92316484e-01,   1.60490483e-01,   9.94790673e-01,\n",
       "         8.80849957e-01,   4.66733366e-01,   2.31322157e-03,\n",
       "         2.75709346e-04,   4.97980155e-02,   1.63457938e-03,\n",
       "         1.01583987e-01,   6.92157628e-05,   1.09022282e-01,\n",
       "         9.64168087e-02,   9.99499917e-01,   9.91678119e-01,\n",
       "         2.00899661e-01,   2.27197632e-02,   1.08325691e-03,\n",
       "         9.24738586e-01,   9.29540217e-01,   8.77736628e-01,\n",
       "         7.32008457e-01,   1.26496479e-01,   9.59135175e-01,\n",
       "         1.88587561e-01,   8.62695336e-01,   4.08401676e-02,\n",
       "         3.85015737e-04,   2.12087080e-01,   5.22726513e-02,\n",
       "         9.33479369e-01,   4.22313772e-02,   1.98601373e-03,\n",
       "         2.86196563e-02,   1.77613110e-03,   1.25085572e-02,\n",
       "         3.05168284e-03,   7.70329595e-01,   6.41223218e-04,\n",
       "         5.49083576e-02,   5.73439121e-01,   3.84054109e-02,\n",
       "         9.32383239e-01,   8.18525136e-01,   9.78056312e-01,\n",
       "         1.57673587e-03,   9.97628987e-01,   1.31267607e-01,\n",
       "         2.89886028e-01,   2.75163025e-01,   2.92241704e-02,\n",
       "         6.26560152e-01,   3.77996527e-02,   5.62965078e-03,\n",
       "         4.10977095e-01,   1.74505055e-01,   4.43184704e-01,\n",
       "         9.87750232e-01,   2.63187941e-03,   7.65357673e-01,\n",
       "         3.31620067e-05,   4.55736853e-02,   9.88953829e-01,\n",
       "         5.19429445e-01,   1.13662414e-03,   6.44867837e-01,\n",
       "         9.50436950e-01,   5.76003306e-02,   7.48328194e-02,\n",
       "         5.30580401e-01,   9.40034568e-01,   2.64832318e-01,\n",
       "         9.94823217e-01,   1.56637225e-02,   7.14399517e-02,\n",
       "         9.61495519e-01,   9.82937515e-01,   8.52977395e-01,\n",
       "         7.96808768e-03,   1.43985846e-03,   7.84648946e-05,\n",
       "         8.01000178e-01,   1.60228024e-04,   2.11565554e-01,\n",
       "         8.38064328e-02,   9.59189713e-01,   1.30466637e-04,\n",
       "         8.17199469e-01,   7.21812472e-02,   3.19371611e-04,\n",
       "         7.89956510e-01,   8.49636912e-01,   6.88327418e-05,\n",
       "         7.50206053e-01,   3.43684077e-01,   1.99542381e-03,\n",
       "         8.36729407e-01,   8.72828603e-01,   5.92875518e-02,\n",
       "         9.71986949e-01,   9.93564665e-01,   1.68586656e-01,\n",
       "         2.64627099e-01,   9.99690175e-01,   1.77163944e-01,\n",
       "         2.66854186e-02,   5.99044323e-01,   9.99898314e-01,\n",
       "         4.86007154e-01,   9.30036783e-01,   6.93276990e-04,\n",
       "         1.06481042e-04,   1.33274451e-01,   6.58446997e-02,\n",
       "         9.56709385e-01,   3.19215029e-01,   1.69660836e-01,\n",
       "         9.37867522e-01,   5.15883341e-02,   2.26357356e-01,\n",
       "         2.24964768e-02,   1.97376218e-02,   3.18872333e-01,\n",
       "         2.79381335e-01,   9.99643207e-01,   6.40320219e-03,\n",
       "         4.83376272e-02,   9.72117841e-01,   3.45966145e-02,\n",
       "         1.17823459e-01,   1.10471630e-02,   3.79116498e-02,\n",
       "         4.30381745e-02,   4.16271351e-02,   2.66747028e-01,\n",
       "         9.79162693e-01,   4.16251421e-02,   6.27285987e-02,\n",
       "         8.48723710e-01,   3.52317095e-01,   1.12361042e-03,\n",
       "         9.83499527e-01,   9.32366967e-01,   6.29434455e-03,\n",
       "         2.90939957e-02,   9.99011517e-01,   3.68386269e-01,\n",
       "         9.99687195e-01,   8.84688199e-01,   1.73985288e-01,\n",
       "         4.54136312e-01,   8.66140962e-01,   5.92918514e-06,\n",
       "         5.17322898e-01,   1.06152751e-01,   8.75304732e-03,\n",
       "         1.77566417e-05,   3.60006355e-02,   1.77359357e-01,\n",
       "         7.87079394e-01,   8.59705925e-01,   4.38418299e-01,\n",
       "         8.22205722e-01,   2.48585224e-01,   9.96952653e-01,\n",
       "         1.56916350e-01,   9.03725803e-01,   3.08599439e-03,\n",
       "         9.34087873e-01,   8.43908668e-01,   9.55876172e-01,\n",
       "         9.99966860e-01,   3.31630379e-01,   9.99048889e-01,\n",
       "         8.25906217e-01,   3.38764465e-03,   7.37111390e-01,\n",
       "         8.23521793e-01,   7.64662981e-01,   3.63257043e-02,\n",
       "         9.99462068e-01,   6.04154989e-02,   1.29543792e-03,\n",
       "         2.14258268e-01,   8.13653469e-01,   1.62002907e-05,\n",
       "         6.19012654e-01,   2.29792446e-01,   9.92806315e-01,\n",
       "         2.56991796e-02,   8.69004309e-01,   1.37712918e-02,\n",
       "         7.32766762e-02,   3.84042412e-02,   1.35985464e-01,\n",
       "         9.80053604e-01,   6.13993645e-01,   8.61106499e-04,\n",
       "         1.67373859e-04,   8.83762479e-01,   4.92164232e-02,\n",
       "         1.15890782e-02,   7.23355353e-01,   8.37755576e-02,\n",
       "         6.07428730e-01,   9.81485784e-01,   6.65834546e-01,\n",
       "         6.89920723e-01,   4.65867609e-01,   7.37531424e-01,\n",
       "         2.26948154e-03,   1.01017840e-01,   8.31515640e-02,\n",
       "         7.64438475e-04,   1.13590145e-02,   8.34239051e-02,\n",
       "         9.34155703e-01,   7.74410844e-01,   6.15775645e-01,\n",
       "         9.84015226e-01,   1.16523243e-01,   9.86626685e-01,\n",
       "         6.15282655e-02,   9.57975566e-01,   6.75726414e-01,\n",
       "         1.25097530e-02,   9.90176022e-01,   3.49835813e-01,\n",
       "         9.97509360e-01,   9.95977938e-01,   9.78753567e-01,\n",
       "         3.26533496e-01,   5.62469721e-01,   4.32461165e-02,\n",
       "         4.52306777e-01,   9.73796487e-01,   3.96655858e-01,\n",
       "         8.48322988e-01,   1.34832435e-03,   9.78504300e-01,\n",
       "         7.93686390e-01,   9.87846076e-01,   9.97021854e-01,\n",
       "         2.10578337e-01,   6.82195183e-03,   7.53053930e-04,\n",
       "         3.24040860e-01,   7.22881138e-01,   4.79550600e-01,\n",
       "         7.98719749e-02,   9.88912463e-01,   2.75182538e-02,\n",
       "         1.26686711e-02,   1.60670474e-01], dtype=float32)"
      ]
     },
     "execution_count": 45,
     "metadata": {},
     "output_type": "execute_result"
    }
   ],
   "source": [
    "y_pred = final_xgb.predict(dval)\n",
    "y_pred"
   ]
  },
  {
   "cell_type": "markdown",
   "metadata": {},
   "source": [
    "### Calculate the AUC and optimal threshold"
   ]
  },
  {
   "cell_type": "code",
   "execution_count": 46,
   "metadata": {},
   "outputs": [
    {
     "name": "stdout",
     "output_type": "stream",
     "text": [
      "dval optimal_threshold: \t0.19\n"
     ]
    },
    {
     "data": {
      "image/png": "[encoded data removed]",
      "text/plain": [
       "<Figure size 432x288 with 1 Axes>"
      ]
     },
     "metadata": {},
     "output_type": "display_data"
    }
   ],
   "source": [
    "# AUC - area under the ROC \n",
    "fpr, tpr, thresholds = metrics.roc_curve(y_val.values, y_pred, pos_label=1)\n",
    "\n",
    "optimal_idx = np.argmax(tpr - fpr)\n",
    "optimal_threshold = thresholds[optimal_idx]\n",
    "print(\"dval optimal_threshold: \\t%.2f\" % (optimal_threshold))\n",
    "\n",
    "plt.figure()\n",
    "lw = 2\n",
    "plt.plot(fpr, tpr, color='darkorange', lw=lw,\n",
    "        label='ROC curve (area = %0.2f)' % metrics.auc(fpr, tpr))\n",
    "plt.plot([0, 1], [0, 1], color='navy', lw=lw, linestyle='--')\n",
    "plt.xlim([0.0, 1.0])\n",
    "plt.ylim([0.0, 1.05])\n",
    "plt.xlabel('False Positive Rate')\n",
    "plt.ylabel('True Positive Rate')\n",
    "plt.title('Receiver operating characteristic')\n",
    "plt.legend(loc=\"lower right\")\n",
    "plt.show()"
   ]
  },
  {
   "cell_type": "markdown",
   "metadata": {},
   "source": [
    "### Convert probabilities back to the 0/1 label using the calculated cutoff"
   ]
  },
  {
   "cell_type": "code",
   "execution_count": 47,
   "metadata": {},
   "outputs": [
    {
     "data": {
      "text/plain": [
       "array([ 0.,  1.,  1.,  1.,  1.,  0.,  0.,  1.,  1.,  0.,  1.,  0.,  1.,\n",
       "        0.,  1.,  0.,  0.,  0.,  0.,  0.,  0.,  1.,  0.,  1.,  1.,  1.,\n",
       "        0.,  0.,  0.,  0.,  0.,  0.,  0.,  0.,  1.,  1.,  1.,  0.,  0.,\n",
       "        1.,  1.,  1.,  1.,  0.,  1.,  0.,  1.,  0.,  0.,  1.,  0.,  1.,\n",
       "        0.,  0.,  0.,  0.,  0.,  0.,  1.,  0.,  0.,  1.,  0.,  1.,  1.,\n",
       "        1.,  0.,  1.,  0.,  1.,  1.,  0.,  1.,  0.,  0.,  1.,  0.,  1.,\n",
       "        1.,  0.,  1.,  0.,  0.,  1.,  1.,  0.,  1.,  1.,  0.,  0.,  1.,\n",
       "        1.,  1.,  1.,  0.,  0.,  1.,  1.,  1.,  0.,  0.,  0.,  1.,  0.,\n",
       "        1.,  0.,  1.,  0.,  1.,  0.,  0.,  1.,  1.,  0.,  1.,  1.,  0.,\n",
       "        1.,  1.,  0.,  1.,  1.,  0.,  1.,  1.,  0.,  0.,  1.,  1.,  1.,\n",
       "        1.,  0.,  0.,  0.,  0.,  1.,  1.,  0.,  1.,  0.,  1.,  0.,  0.,\n",
       "        1.,  1.,  1.,  0.,  0.,  1.,  0.,  0.,  0.,  0.,  0.,  0.,  1.,\n",
       "        1.,  0.,  0.,  1.,  1.,  0.,  1.,  1.,  0.,  0.,  1.,  1.,  1.,\n",
       "        1.,  0.,  1.,  1.,  0.,  1.,  0.,  0.,  0.,  0.,  0.,  1.,  1.,\n",
       "        1.,  1.,  1.,  1.,  0.,  1.,  0.,  1.,  1.,  1.,  1.,  1.,  1.,\n",
       "        1.,  0.,  1.,  1.,  1.,  0.,  1.,  0.,  0.,  1.,  1.,  0.,  1.,\n",
       "        1.,  1.,  0.,  1.,  0.,  0.,  0.,  0.,  1.,  1.,  0.,  0.,  1.,\n",
       "        0.,  0.,  1.,  0.,  1.,  1.,  1.,  1.,  1.,  1.,  0.,  0.,  0.,\n",
       "        0.,  0.,  0.,  1.,  1.,  1.,  1.,  0.,  1.,  0.,  1.,  1.,  0.,\n",
       "        1.,  1.,  1.,  1.,  1.,  1.,  1.,  0.,  1.,  1.,  1.,  1.,  0.,\n",
       "        1.,  1.,  1.,  1.,  1.,  0.,  0.,  1.,  1.,  1.,  0.,  1.,  0.,\n",
       "        0.,  0.], dtype=float32)"
      ]
     },
     "execution_count": 47,
     "metadata": {},
     "output_type": "execute_result"
    }
   ],
   "source": [
    "y_pred[y_pred > optimal_threshold] = 1\n",
    "y_pred[y_pred <= optimal_threshold] = 0\n",
    "y_pred"
   ]
  },
  {
   "cell_type": "markdown",
   "metadata": {},
   "source": [
    "### Calculate accuracy, recall, confusion matrix, LIFT, and AUC for dval"
   ]
  },
  {
   "cell_type": "code",
   "execution_count": 48,
   "metadata": {},
   "outputs": [
    {
     "name": "stdout",
     "output_type": "stream",
     "text": [
      "dval accuracy: \t58.55% with 41.45% error rate and 18.86% predict probability cutoff\n",
      "dval recall: \t72.97%\n",
      "confusion matrix: \n",
      "\ttn = 107\n",
      "\tfp = 94\n",
      "\tfn = 20\n",
      "\ttp = 54\n",
      "dval LIFT score: \t1.36\n",
      "\n",
      "clasification report:\n",
      "              precision    recall  f1-score   support\n",
      "\n",
      "          0       0.84      0.53      0.65       201\n",
      "          1       0.36      0.73      0.49        74\n",
      "\n",
      "avg / total       0.71      0.59      0.61       275\n",
      "\n"
     ]
    }
   ],
   "source": [
    "# accuracy\n",
    "print(\"dval accuracy: \\t%.2f%% with %.2f%% error rate and %.2f%% predict probability cutoff\" % (accuracy_score(y_val, y_pred) * 100,\n",
    "                                                                            (1-accuracy_score(y_val, y_pred)) * 100,\n",
    "                                                                            optimal_threshold * 100))\n",
    "# error\n",
    "print(\"dval recall: \\t%.2f%%\" % (recall_score(y_val, y_pred) * 100))\n",
    "\n",
    "# confusion matrix\n",
    "tn, fp, fn, tp = confusion_matrix(y_val, y_pred).ravel()\n",
    "print(\"confusion matrix: \\n\\ttn = %d\\n\\tfp = %d\\n\\tfn = %d\\n\\ttp = %d\" % (tn, fp, fn, tp))\n",
    "\n",
    "# LIFT - the ratio of correctly predicted positive examples and the actual positive examples\n",
    "print(\"dval LIFT score: \\t%.2f\" % (lift_score(y_val, y_pred)))\n",
    "\n",
    "# classification report\n",
    "print('\\nclasification report:\\n', classification_report(y_val, y_pred))"
   ]
  },
  {
   "cell_type": "markdown",
   "metadata": {},
   "source": [
    "## Evaluate the final model using the test data..."
   ]
  },
  {
   "cell_type": "markdown",
   "metadata": {},
   "source": [
    "### Calculate prediction probabilities on the test matrix"
   ]
  },
  {
   "cell_type": "code",
   "execution_count": 49,
   "metadata": {},
   "outputs": [
    {
     "data": {
      "text/plain": [
       "array([  7.79441357e-01,   2.63134569e-01,   1.67552888e-01,\n",
       "         3.32909636e-02,   2.66634852e-01,   9.99268234e-01,\n",
       "         1.95677534e-01,   9.98905778e-01,   9.31794107e-01,\n",
       "         1.69402256e-03,   8.23354900e-01,   5.77858090e-02,\n",
       "         3.78476590e-01,   4.78470773e-01,   8.39051247e-01,\n",
       "         9.98072982e-01,   9.81181443e-01,   1.66255835e-04,\n",
       "         9.91524290e-03,   2.67112821e-01,   8.35298598e-01,\n",
       "         2.55657732e-01,   9.99777615e-01,   3.47930640e-01,\n",
       "         9.56645072e-01,   8.13858807e-02,   7.60557055e-01,\n",
       "         2.98407804e-02,   9.78843868e-01,   9.70560849e-01,\n",
       "         9.43908811e-01,   1.63188770e-01,   4.32931595e-02,\n",
       "         8.70544538e-02,   4.89002094e-03,   3.34212661e-01,\n",
       "         1.01169795e-02,   9.01559949e-01,   9.50428545e-01,\n",
       "         9.68472123e-01,   8.33066046e-01,   1.22636095e-01,\n",
       "         3.30089475e-04,   4.69261318e-01,   1.26391709e-01,\n",
       "         9.40330148e-01,   6.68617725e-01,   1.02703813e-02,\n",
       "         3.51607680e-01,   8.34410727e-01,   9.95069981e-01,\n",
       "         4.08107072e-01,   1.73962191e-01,   7.69330859e-02,\n",
       "         4.23785985e-01,   8.32903147e-01,   3.35364528e-02,\n",
       "         3.65324377e-04,   6.74516021e-04,   5.19689405e-03,\n",
       "         2.20703781e-01,   7.90779218e-02,   9.52688038e-01,\n",
       "         9.97916877e-01,   6.42595351e-01,   2.71392345e-01,\n",
       "         1.09268585e-03,   7.97959277e-04,   1.89211503e-01,\n",
       "         9.99518156e-01,   7.05972433e-01,   5.05255023e-03,\n",
       "         4.26755786e-01,   8.19867710e-05,   3.78743792e-03,\n",
       "         2.64317472e-03,   1.99551713e-02,   5.75019300e-01,\n",
       "         8.18298757e-02,   9.75260586e-02,   2.12590588e-04,\n",
       "         5.62462628e-01,   9.99997139e-01,   7.58618163e-03,\n",
       "         3.48918624e-02,   9.89847839e-01,   3.79303913e-03,\n",
       "         4.11256254e-02,   9.50871110e-01,   1.08647600e-01,\n",
       "         6.55372860e-03,   9.96688545e-01,   8.87918472e-01,\n",
       "         8.29837285e-03,   4.12545120e-03,   2.98172861e-01,\n",
       "         9.98156011e-01,   6.58692734e-04,   5.52269936e-01,\n",
       "         8.31843726e-03,   6.16295695e-01,   6.66327834e-01,\n",
       "         4.78702672e-02,   1.94616653e-02,   6.92974254e-02,\n",
       "         9.53305483e-01,   9.91749287e-01,   2.51845002e-01,\n",
       "         3.83398938e-03,   4.83030491e-02,   9.78443980e-01,\n",
       "         5.71984006e-03,   5.88049705e-04,   7.71740496e-01,\n",
       "         1.44445468e-02,   9.86234426e-01,   7.23968595e-02,\n",
       "         3.70719850e-01,   2.02355176e-01,   5.27659664e-04,\n",
       "         1.36636840e-02,   6.31634844e-03,   6.14545286e-01,\n",
       "         2.46678106e-02,   2.19030213e-02,   7.80589953e-02,\n",
       "         8.96924436e-01,   9.50854838e-01,   9.40183222e-01,\n",
       "         6.09427653e-02,   1.47132069e-01,   3.46610278e-01,\n",
       "         5.54028782e-04,   2.57289056e-02,   2.82583572e-03,\n",
       "         8.97096038e-01,   9.86939073e-01,   9.90828872e-01,\n",
       "         8.01459849e-01,   9.28996265e-01,   8.86540711e-01,\n",
       "         6.67483926e-01,   7.89339781e-01,   2.63475114e-04,\n",
       "         9.64932263e-01,   4.11914196e-03,   9.15361121e-02,\n",
       "         8.85980785e-01,   9.98783410e-01,   1.61053217e-03,\n",
       "         9.90794480e-01,   9.93731916e-01,   1.89101305e-02,\n",
       "         9.38908875e-01,   1.20821944e-03,   1.34345828e-04,\n",
       "         8.34834456e-01,   1.21345460e-01,   8.64228129e-01,\n",
       "         9.93581414e-01,   9.93987799e-01,   2.40545385e-02,\n",
       "         2.34442577e-03,   2.15740763e-02,   7.94172008e-03,\n",
       "         6.42578350e-04,   8.18564658e-05,   2.07942724e-02,\n",
       "         6.43597543e-02,   5.36265224e-02,   1.53989792e-01,\n",
       "         4.41349775e-01,   3.24605382e-04,   1.18341391e-04,\n",
       "         2.25418946e-03,   1.20593064e-01,   2.13810373e-02,\n",
       "         7.05306530e-01,   1.83340479e-02,   6.46250024e-02,\n",
       "         9.75720167e-01,   6.63374007e-01,   2.98205065e-03,\n",
       "         9.64447141e-01,   6.90204266e-04,   3.32730673e-02,\n",
       "         4.26181465e-01,   7.33626485e-01,   7.93633878e-01,\n",
       "         1.01312558e-04,   8.34521294e-01,   2.68654019e-01,\n",
       "         3.24233294e-01,   9.91361201e-01,   9.99077678e-01,\n",
       "         9.14705515e-01,   2.17055390e-03,   2.59647006e-03,\n",
       "         9.36211109e-01,   2.81374548e-02,   3.36982846e-01,\n",
       "         8.32220674e-01,   7.75074633e-03,   8.91392529e-01,\n",
       "         9.79011953e-01,   1.78089932e-01,   3.56382392e-02,\n",
       "         9.98227179e-01,   9.21357214e-01,   9.93321836e-01,\n",
       "         8.04005265e-01,   3.83130834e-02,   8.41707647e-01,\n",
       "         9.32131469e-01,   9.98988211e-01,   9.26932096e-02,\n",
       "         9.64997232e-01,   9.98980701e-01,   8.96306694e-01,\n",
       "         9.71277595e-01,   3.67706269e-01,   9.97044504e-01,\n",
       "         1.29965330e-02,   3.48577708e-01,   2.54675793e-03,\n",
       "         8.49958897e-01,   1.59796309e-02,   3.78860652e-01,\n",
       "         9.68617260e-01,   8.89115572e-01,   3.14923614e-01,\n",
       "         1.17991038e-01,   9.18311656e-01,   8.46479181e-03,\n",
       "         8.80611613e-02,   9.99226809e-01,   3.34577523e-02,\n",
       "         3.62405747e-01,   6.20939322e-02,   1.08786998e-02,\n",
       "         8.91153693e-01,   2.05574572e-01,   7.40436808e-05,\n",
       "         4.29445028e-01,   1.21425828e-02,   9.98566449e-01,\n",
       "         1.70504383e-03,   8.53074372e-01,   1.41679030e-02,\n",
       "         6.03357516e-02,   2.82759182e-02,   1.95180648e-03,\n",
       "         3.17602349e-03,   3.64914447e-01,   8.06693971e-01,\n",
       "         6.31395280e-01,   7.43016303e-01,   9.64359462e-01,\n",
       "         4.85549420e-01,   5.67445271e-02,   6.18767478e-02,\n",
       "         1.72476675e-02,   2.86484003e-01,   9.74498630e-01,\n",
       "         9.84937906e-01,   1.99860637e-03,   9.97920573e-01,\n",
       "         6.90648332e-03,   8.95471990e-01,   9.99876976e-01,\n",
       "         9.36034977e-01,   7.08025545e-02,   2.77793012e-03,\n",
       "         1.93446365e-04,   9.86608565e-01,   9.87745702e-01,\n",
       "         9.42577645e-02,   9.99692321e-01,   3.72977674e-01,\n",
       "         7.92437866e-02,   9.49514568e-01,   9.64049935e-01,\n",
       "         1.52175482e-02,   3.08316588e-01,   9.98850346e-01,\n",
       "         3.32693532e-02,   3.47149402e-01,   6.44082995e-03,\n",
       "         1.32968221e-02,   3.00641641e-05,   1.16884679e-04,\n",
       "         4.15460701e-04,   8.82807467e-03,   6.22630643e-04,\n",
       "         6.57521009e-01,   9.66584146e-01,   5.73854661e-03,\n",
       "         7.67843843e-01,   1.51906090e-04,   1.96839068e-02,\n",
       "         1.96524531e-01,   2.31954694e-01,   2.44267881e-02,\n",
       "         3.47586721e-02,   2.82195151e-01,   4.84904319e-01,\n",
       "         6.08938336e-02,   4.12503286e-04,   7.52964988e-03,\n",
       "         2.59996831e-01,   2.13666842e-03,   9.75757897e-01,\n",
       "         1.18870346e-03,   1.43477887e-01,   4.25786059e-03,\n",
       "         5.82889199e-01,   2.69089729e-01,   1.35730878e-02,\n",
       "         6.41744971e-01,   9.94735181e-01,   9.27910328e-01,\n",
       "         1.54829875e-01,   6.00846946e-01,   9.81384158e-01,\n",
       "         2.83664670e-02,   8.31844449e-01,   5.94828613e-02,\n",
       "         6.30620518e-04,   9.90585625e-01,   7.19123054e-03,\n",
       "         3.68779629e-01,   1.36664882e-03,   3.47962938e-02,\n",
       "         5.23601830e-01,   9.64850605e-01,   9.96131897e-01,\n",
       "         2.19144642e-01,   9.74389732e-01,   5.05095720e-02,\n",
       "         7.63874710e-01,   9.99567211e-01,   9.79749918e-01,\n",
       "         9.99444187e-01,   9.31873083e-01,   1.45732965e-02,\n",
       "         7.59473145e-02,   1.19263060e-01,   5.29977195e-02,\n",
       "         5.76938055e-02,   9.69872296e-01,   9.45088454e-03,\n",
       "         6.34215549e-02,   9.90179539e-01,   2.16096942e-03,\n",
       "         1.66050985e-03,   1.23783974e-02,   2.44943395e-01,\n",
       "         6.98119700e-01,   3.87140521e-04,   3.63443702e-01,\n",
       "         8.99636447e-01,   9.32544589e-01,   9.99721467e-01,\n",
       "         8.18179995e-02,   6.20974898e-01,   9.96012926e-01,\n",
       "         9.72222269e-01,   7.93552771e-02,   7.67524898e-01,\n",
       "         9.85927939e-01,   7.19976351e-02,   9.99864578e-01,\n",
       "         4.81222659e-01,   3.85800540e-01,   3.00428331e-01,\n",
       "         2.54770066e-03,   1.84587028e-03,   7.77390897e-02,\n",
       "         8.56278300e-01,   1.61250326e-04,   8.84553939e-02,\n",
       "         9.86519039e-01,   6.95545971e-01,   3.23446766e-02,\n",
       "         1.86283665e-04,   1.49867206e-03,   6.09099567e-01,\n",
       "         4.81746905e-02,   3.06030065e-01,   9.02502656e-01,\n",
       "         9.91429150e-01,   1.89088657e-02,   3.49917054e-01,\n",
       "         3.22117266e-04,   9.90615785e-01,   7.16702580e-01,\n",
       "         5.96308187e-02,   3.14023435e-01,   9.29406226e-01,\n",
       "         9.69748974e-01,   7.20221829e-03,   2.64547169e-01,\n",
       "         8.46143246e-01,   2.84265019e-02,   8.99231493e-01,\n",
       "         9.49871659e-01,   9.99955177e-01,   2.84722269e-01,\n",
       "         8.52010101e-02,   1.55259855e-04], dtype=float32)"
      ]
     },
     "execution_count": 49,
     "metadata": {},
     "output_type": "execute_result"
    }
   ],
   "source": [
    "y_tpred = final_xgb.predict(dtest)\n",
    "y_tpred"
   ]
  },
  {
   "cell_type": "markdown",
   "metadata": {},
   "source": [
    "### Calculate the AUC and optimal threshold"
   ]
  },
  {
   "cell_type": "code",
   "execution_count": 50,
   "metadata": {},
   "outputs": [
    {
     "name": "stdout",
     "output_type": "stream",
     "text": [
      "dtest optimal_threshold: \t0.01\n"
     ]
    },
    {
     "data": {
      "image/png": "[encoded data removed]",
      "text/plain": [
       "<Figure size 432x288 with 1 Axes>"
      ]
     },
     "metadata": {},
     "output_type": "display_data"
    }
   ],
   "source": [
    "# AUC - area under the ROC \n",
    "fpr, tpr, thresholds = metrics.roc_curve(test_target.values, y_tpred, pos_label=1)\n",
    "\n",
    "optimal_idx = np.argmax(tpr - fpr)\n",
    "optimal_threshold = thresholds[optimal_idx]\n",
    "print(\"dtest optimal_threshold: \\t%.2f\" % (optimal_threshold))\n",
    "\n",
    "plt.figure()\n",
    "lw = 2\n",
    "plt.plot(fpr, tpr, color='darkorange', lw=lw,\n",
    "        label='ROC curve (area = %0.2f)' % metrics.auc(fpr, tpr))\n",
    "plt.plot([0, 1], [0, 1], color='navy', lw=lw, linestyle='--')\n",
    "plt.xlim([0.0, 1.0])\n",
    "plt.ylim([0.0, 1.05])\n",
    "plt.xlabel('False Positive Rate')\n",
    "plt.ylabel('True Positive Rate')\n",
    "plt.title('Receiver operating characteristic')\n",
    "plt.legend(loc=\"lower right\")\n",
    "plt.show()"
   ]
  },
  {
   "cell_type": "markdown",
   "metadata": {},
   "source": [
    "### Convert probabilities back to the 0/1 label using the calculated cutoff"
   ]
  },
  {
   "cell_type": "code",
   "execution_count": 51,
   "metadata": {
    "collapsed": true
   },
   "outputs": [],
   "source": [
    "y_tpred[y_tpred > optimal_threshold] = 1\n",
    "y_tpred[y_tpred <= optimal_threshold] = 0"
   ]
  },
  {
   "cell_type": "markdown",
   "metadata": {},
   "source": [
    "### Calculate accuracy, recall, confusion matrix, LIFT, and AUC for the test set"
   ]
  },
  {
   "cell_type": "code",
   "execution_count": 52,
   "metadata": {},
   "outputs": [
    {
     "name": "stdout",
     "output_type": "stream",
     "text": [
      "dtest accuracy: \t32.93% with 67.07% error rate and 0.57% predict probability cutoff\n",
      "dtest recall: \t92.41%\n",
      "confusion matrix: \n",
      "\ttn = 62\n",
      "\tfp = 269\n",
      "\tfn = 6\n",
      "\ttp = 73\n",
      "dtest LIFT score: \t1.11\n",
      "dtest AUC score: \t0.56\n",
      "\n",
      "clasification report:\n",
      "              precision    recall  f1-score   support\n",
      "\n",
      "          0       0.91      0.19      0.31       331\n",
      "          1       0.21      0.92      0.35        79\n",
      "\n",
      "avg / total       0.78      0.33      0.32       410\n",
      "\n"
     ]
    }
   ],
   "source": [
    "# accuracy\n",
    "print(\"dtest accuracy: \\t%.2f%% with %.2f%% error rate and %.2f%% predict probability cutoff\" % (accuracy_score(test_target, y_tpred) * 100,\n",
    "                                                                             (1-accuracy_score(test_target, y_tpred)) * 100,\n",
    "                                                                            optimal_threshold * 100))\n",
    "# error\n",
    "print(\"dtest recall: \\t%.2f%%\" % (recall_score(test_target, y_tpred) * 100))\n",
    "\n",
    "# confusion matrix\n",
    "tn, fp, fn, tp = confusion_matrix(test_target, y_tpred).ravel()\n",
    "print(\"confusion matrix: \\n\\ttn = %d\\n\\tfp = %d\\n\\tfn = %d\\n\\ttp = %d\" % (tn, fp, fn, tp))\n",
    "\n",
    "# LIFT - the ratio of correctly predicted positive examples and the actual positive examples\n",
    "print(\"dtest LIFT score: \\t%.2f\" % (lift_score(test_target, y_tpred)))\n",
    "\n",
    "# AUC - area under the ROC \n",
    "fpr, tpr, thresholds = metrics.roc_curve(test_target.values, y_tpred, pos_label=1)\n",
    "print(\"dtest AUC score: \\t%.2f\" % (metrics.auc(fpr, tpr)))\n",
    "\n",
    "# classification report\n",
    "print('\\nclasification report:\\n', classification_report(test_target, y_tpred))"
   ]
  },
  {
   "cell_type": "markdown",
   "metadata": {},
   "source": [
    "## Save the model..."
   ]
  },
  {
   "cell_type": "code",
   "execution_count": 53,
   "metadata": {
    "collapsed": true
   },
   "outputs": [],
   "source": [
    "# save the model to disk for reloading later\n",
    "pickle.dump(final_xgb, open(base_filename + '_model.sav', 'wb'))"
   ]
  },
  {
   "cell_type": "markdown",
   "metadata": {},
   "source": [
    "## Upload prediction results to AWS..."
   ]
  },
  {
   "cell_type": "markdown",
   "metadata": {},
   "source": [
    "Previous code versions created a prediction result dataframe to ingesting into the AWS RDS Postgres database instance. This allowed the developers to track output versions and use the results with mapping and visualization services. The code for ingesting has been removed as the database instance will not be operational after project completion. Contact the repository point of contact if you have interest is obtaining the ingest code."
   ]
  },
  {
   "cell_type": "markdown",
   "metadata": {},
   "source": [
    "## References\n",
    "\n",
    "- https://jessesw.com/XG-Boost/\n",
    "- https://www.dataiku.com/learn/guide/code/python/advanced-xgboost-tuning.html\n",
    "- https://machinelearningmastery.com/stochastic-gradient-boosting-xgboost-scikit-learn-python/\n",
    "- http://contrib.scikit-learn.org/imbalanced-learn/stable/auto_examples/over-sampling/plot_random_over_sampling.html\n",
    "- https://beckernick.github.io/oversampling-modeling/\n",
    "- https://machinelearningmastery.com/save-load-machine-learning-models-python-scikit-learn/\n",
    "- https://github.com/ipython-contrib/jupyter_contrib_nbextensions\n",
    "- http://scikit-learn.org/stable/modules/model_evaluation.html#scoring-parameter\n",
    "- https://www.rdocumentation.org/packages/xgboost/versions/0.6.4.1/topics/xgb.cv\n",
    "- https://www.analyticsvidhya.com/blog/2016/03/complete-guide-parameter-tuning-xgboost-with-codes-python/\n",
    "- http://xgboost.readthedocs.io/en/latest/how_to/param_tuning.html\n",
    "- https://github.com/rpmcruz/machine-learning\n",
    "- https://rasbt.github.io/mlxtend/\n",
    "- https://machinelearningmastery.com/feature-importance-and-feature-selection-with-xgboost-in-python/"
   ]
  },
  {
   "cell_type": "code",
   "execution_count": null,
   "metadata": {
    "collapsed": true
   },
   "outputs": [],
   "source": []
  }
 ],
 "metadata": {
  "kernelspec": {
   "display_name": "Python 3",
   "language": "python",
   "name": "python3"
  },
  "language_info": {
   "codemirror_mode": {
    "name": "ipython",
    "version": 3
   },
   "file_extension": ".py",
   "mimetype": "text/x-python",
   "name": "python",
   "nbconvert_exporter": "python",
   "pygments_lexer": "ipython3",
   "version": "3.6.4"
  },
  "toc": {
   "base_numbering": 1,
   "nav_menu": {},
   "number_sections": true,
   "sideBar": true,
   "skip_h1_title": false,
   "title_cell": "Table of Contents",
   "title_sidebar": "Contents",
   "toc_cell": true,
   "toc_position": {
    "height": "calc(100% - 180px)",
    "left": "10px",
    "top": "150px",
    "width": "552px"
   },
   "toc_section_display": true,
   "toc_window_display": true
  }
 },
 "nbformat": 4,
 "nbformat_minor": 2
}
